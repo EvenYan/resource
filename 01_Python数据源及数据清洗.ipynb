{
 "cells": [
  {
   "cell_type": "markdown",
   "metadata": {},
   "source": [
    "# 本地数据源"
   ]
  },
  {
   "cell_type": "markdown",
   "metadata": {
    "heading_collapsed": true
   },
   "source": [
    "## CSV文件"
   ]
  },
  {
   "cell_type": "markdown",
   "metadata": {
    "ExecuteTime": {
     "end_time": "2020-08-24T17:16:38.619225Z",
     "start_time": "2020-08-24T17:16:38.613514Z"
    },
    "hidden": true
   },
   "source": [
    "- csv_writer = csv.writer(file_obj)\n",
    "- csv_writer.writerow(tuple)\n",
    "- csv_reader = csv.reader(file_obj)\n",
    "- 注意打开文件时用utf_8_sig编码，newline=\"\""
   ]
  },
  {
   "cell_type": "code",
   "execution_count": 106,
   "metadata": {
    "ExecuteTime": {
     "end_time": "2020-08-25T01:53:17.997160Z",
     "start_time": "2020-08-25T01:53:04.872438Z"
    },
    "collapsed": true,
    "hidden": true
   },
   "outputs": [
    {
     "name": "stdout",
     "output_type": "stream",
     "text": [
      "请输入商品名称：商品1\n",
      "请输入商品价格：40\n",
      "请输入商品名称：商品2\n",
      "请输入商品价格：50\n"
     ]
    }
   ],
   "source": [
    "import csv\n",
    "\n",
    "with open(\"./demo_new.csv\",'w', encoding='utf_8_sig', newline=\"\") as f:\n",
    "    csv_writer = csv.writer(f)\n",
    "    csv_writer.writerow((\"商品名称\", \"售价\"))\n",
    "    for i in range(2):\n",
    "        good_name = input(\"请输入商品名称：\")\n",
    "        good_price = input(\"请输入商品价格：\")\n",
    "        csv_writer.writerow((good_name, good_price))"
   ]
  },
  {
   "cell_type": "code",
   "execution_count": 108,
   "metadata": {
    "ExecuteTime": {
     "end_time": "2020-08-25T01:54:59.736879Z",
     "start_time": "2020-08-25T01:54:59.731907Z"
    },
    "collapsed": true,
    "hidden": true
   },
   "outputs": [
    {
     "name": "stdout",
     "output_type": "stream",
     "text": [
      "商品名称 售价\n",
      "商品1 40\n",
      "商品2 50\n"
     ]
    }
   ],
   "source": [
    "import csv\n",
    "\n",
    "with open(\"./demo_new.csv\",'r', encoding='utf_8_sig', newline=\"\") as f:\n",
    "    csv_reader = csv.reader(f)\n",
    "    for i in csv_reader:\n",
    "        print(i[0], i[1])\n",
    "    "
   ]
  },
  {
   "cell_type": "markdown",
   "metadata": {
    "heading_collapsed": true
   },
   "source": [
    "## Excel文件的读写"
   ]
  },
  {
   "cell_type": "markdown",
   "metadata": {
    "hidden": true
   },
   "source": [
    "- 创建Workbook对象：`wb = openpyxl.Workbook()`\n",
    "- 保存Workbook对象到xlsx文件：`wb.save(\"test.xlsx\")`\n",
    "- 打开现有xlsx文件：`wb = openpyxl.load_workbook(\"test.xlsx\")`"
   ]
  },
  {
   "cell_type": "markdown",
   "metadata": {
    "hidden": true
   },
   "source": [
    "- 通过工作表名称获取sheet页面2：`ws1 = wb[\"Sheet\"]`\n",
    "- 创建新的sheet页面（保存时才生效）：`ws2 = wb.create_sheet(\"Sheet2\")`\n",
    "- 给已有sheet重命名：`ws1.title = \"New\"`"
   ]
  },
  {
   "cell_type": "markdown",
   "metadata": {
    "hidden": true
   },
   "source": [
    "**单元格操作**\n",
    "- 给表格赋值（保存时才生效）：`ws2[\"A1\"] = \"Test\"`\n",
    "- 在指定行、列的单元格中写入数据：`ws1.cell(row=3, column=2).value = \"AAAAA\"`\n",
    "- 获取最大的行数：`ws2.max_row`\n",
    "- 获取最大的列数：`ws2.max_column`\n",
    "- 采用iter_cols方法:\n",
    "\n",
    "```python\n",
    "for col in ws1.iter_cols(min_row=2, min_col=2, max_row=7, max_col=6):\n",
    "    for cell in col:\n",
    "        print(cell.value)\n",
    "```"
   ]
  },
  {
   "cell_type": "code",
   "execution_count": 110,
   "metadata": {
    "ExecuteTime": {
     "end_time": "2020-08-25T02:18:44.148056Z",
     "start_time": "2020-08-25T02:18:44.137431Z"
    },
    "hidden": true
   },
   "outputs": [],
   "source": [
    "import openpyxl\n",
    "\n",
    "wb = openpyxl.Workbook()\n",
    "\n",
    "ws = wb[\"Sheet\"]\n",
    "\n",
    "ws[\"A1\"].value = 100\n",
    "\n",
    "wb.save(\"./new_excel.xlsx\")"
   ]
  },
  {
   "cell_type": "code",
   "execution_count": 112,
   "metadata": {
    "ExecuteTime": {
     "end_time": "2020-08-25T02:21:20.522167Z",
     "start_time": "2020-08-25T02:21:20.506651Z"
    },
    "hidden": true
   },
   "outputs": [
    {
     "name": "stdout",
     "output_type": "stream",
     "text": [
      "100\n"
     ]
    }
   ],
   "source": [
    "wb1 = openpyxl.load_workbook(\"./new_excel.xlsx\")\n",
    "\n",
    "ws1 = wb1[\"Sheet\"]\n",
    "\n",
    "print(ws1[\"A1\"].value)\n",
    "\n",
    "ws1[\"A1\"].value = 200\n",
    "\n",
    "wb1.save(\"./new_excel.xlsx\")"
   ]
  },
  {
   "cell_type": "markdown",
   "metadata": {
    "hidden": true
   },
   "source": [
    "### 练习：将taobao_sales.csv文件中的销量数据调整成整型并保存到Excel文件中"
   ]
  },
  {
   "cell_type": "code",
   "execution_count": 149,
   "metadata": {
    "ExecuteTime": {
     "end_time": "2020-08-25T04:03:45.593413Z",
     "start_time": "2020-08-25T04:03:45.589217Z"
    },
    "hidden": true
   },
   "outputs": [
    {
     "name": "stdout",
     "output_type": "stream",
     "text": [
      "a.txt\n",
      "b.txt\n",
      "c.txt\n"
     ]
    }
   ],
   "source": [
    "for i in [\"a.txt\", 'b.txt', 'c.txt']:\n",
    "    print(i)"
   ]
  },
  {
   "cell_type": "code",
   "execution_count": 152,
   "metadata": {
    "ExecuteTime": {
     "end_time": "2020-08-25T04:04:23.797102Z",
     "start_time": "2020-08-25T04:04:23.793596Z"
    },
    "collapsed": true,
    "hidden": true
   },
   "outputs": [
    {
     "name": "stdout",
     "output_type": "stream",
     "text": [
      "['new_excel.xlsx', 'stock_code_and_name.csv', '01_Python数据源及数据清洗.ipynb', 'pingan.xlsx', 'Python基础.xmind', 'demo_new.csv', '-01_Python基础.ipynb', '01_标准数据类型 (1).md', '.DS_Store', '02_控制流_函数.md', 'baiku.txt', 'goods.xlsx', 'images', 'news.txt', '~$Python精彩世界入门_V2.0.pptx', 'demo.docx', '02_控制流_函数_day2.md', '06-测试题.ipynb', '-03_Python第三方数据处理工具.ipynb', '未命名1.ipynb', '01_标准数据类型.md', 'error.log', 'code', 'demo1.xlsx', 'new.csv', 'jupyter使用.ipynb', '01_Python基础语法.pdf', '决策树案例.ipynb', '01_Python基础语法.md', '03_常用内置模块.md', 'my.xlsx', '未命名.ipynb', 'new_dir', '-03_Python第三方数据处理工具-copy.ipynb', 'demo3.xlsx', '04-Python自动化操作.ipynb', 'good.xlsx', '03-Python数据分析应用实战.ipynb', 'taobao_sale.csv', 'baik.xlsx', '-02_Python基础进阶.ipynb', '.ipynb_checkpoints', '202007141648265261', 'baiku_demo', 'chromedriver', 'taobao_sale.xlsx', '新型冠状病毒疫情新闻数据采集及词云展示.pdf', 'baiku.xlsx', 'resource', 'data', 'demo01.docx', 'new.xlsx', '02-Python数据分析工具介绍.ipynb']\n"
     ]
    }
   ],
   "source": [
    "import os\n",
    "\n",
    "file_list = os.listdir()\n",
    "print(file_list)"
   ]
  },
  {
   "cell_type": "code",
   "execution_count": 146,
   "metadata": {
    "ExecuteTime": {
     "end_time": "2020-08-25T03:59:14.020892Z",
     "start_time": "2020-08-25T03:59:13.989456Z"
    },
    "collapsed": true,
    "hidden": true
   },
   "outputs": [
    {
     "name": "stdout",
     "output_type": "stream",
     "text": [
      "['天猫超市', '上海', '欧莱雅紫熨斗眼霜保湿抗皱淡化细纹黑眼圈30ml', 489.0, '0人付款']\n",
      "['天猫超市', '上海', '巴黎欧莱雅精油润养洗发水护发素洗护套装正品 改善干枯 柔顺头发', 89.9, '1.0万+人付款']\n",
      "['天猫超市', '上海', '欧莱雅蒸汽发膜帽x2 正品修复干枯奇焕垂顺精油焗油护发改善毛躁', 69.9, '1921人付款']\n",
      "['天猫超市', '上海', '欧莱雅小花源清新茉莉香水护发精油100ml 头发免洗柔顺修护干枯发', 109.0, '1344人付款']\n",
      "['天猫超市', '上海', '欧莱雅发膜女免蒸精油护发素正品修复干枯焗油膏倒膜头发营养护理', 39.0, '2778人付款']\n",
      "['天猫超市', '上海', '欧莱雅大金瓶精油洗发水奇焕垂顺洗发露洗头膏+奇焕垂顺润发乳', 168.0, '245人付款']\n",
      "['天猫超市', '江苏 苏州', '欧莱雅男士专用洗面奶护肤品套装补水控油抗痘去黑头火山泥洁面乳', 99.0, '5.0万+人付款']\n",
      "['天猫超市', '江苏 苏州', '欧莱雅男士护肤品套装补水保湿乳洗面奶洗脸男士专用水乳套装全套', 189.0, '3.0万+人付款']\n",
      "['天猫超市', '浙江 杭州', \"L'OREAL /欧莱雅玻尿酸日晚霜眼霜孚波因抗皱保湿补水套装精华\", 479.0, '13人付款']\n",
      "['天猫超市', '浙江 杭州', '欧莱雅金致臻颜牡丹奢养粉妍精华+面霜精华水补水保湿套装套盒', 275.0, '15人付款']\n",
      "['天猫超市', '江苏 苏州', '欧莱雅小金管麦色滤面部防紫外线防晒伤隔离防晒霜SPF50+男女30ml', 149.0, '9.0万+人付款']\n",
      "['天猫超市', '上海', '欧莱雅男士洗面奶男清洁控油磨砂抗黑头洁面膏洁面乳去黑头缩毛孔', 37.9, '8500+人付款']\n",
      "['天猫超市', '广东 深圳', '欧莱雅小黑瓶50ml青春密码酵素面部精华补水紧致抗衰老初老肌底液', 139.0, '1304人付款']\n",
      "['欧莱雅男士官方旗舰店', '江苏 苏州', '欧莱雅男士控油炭爽抗黑头洁面膏清洁洗面奶祛黑头洁面乳官方正品', 39.0, '2.5万+人付款']\n",
      "['欧莱雅男士官方旗舰店', '上海', '欧莱雅男士专用洗面奶男控油祛痘印去黑头火山岩洁面护肤套装正品', 34.9, '1.5万+人付款']\n",
      "['欧莱雅男士官方旗舰店', '江苏 南京', '欧莱雅男士专用洗面奶火山岩泥控油祛痘磨砂去黑头深层清洁面乳膏', 62.9, '4991人付款']\n",
      "['欧莱雅男士官方旗舰店', '上海', '欧莱雅小金管防晒隔离霜麦色滤男女面脸部防晒伤紫外线SPF50正品', 115.0, '983人付款']\n",
      "['天猫国际进口超市', '上海', '欧莱雅男士洗面奶男火山岩控油祛痘去黑头去油洁面乳护肤品套装', 39.9, '4257人付款']\n",
      "['天猫国际进口超市', '浙江 杭州', '巴黎欧莱雅男士洗面奶水能润泽双效洁面膏乳补水保湿控油深层清洁', 35.9, '3919人付款']\n",
      "['天猫国际进口超市', '江苏 苏州', '巴黎欧莱雅大金瓶洗发水护发素洗护套装柔顺洗发露女士官方旗舰店', 188.0, '1.5万+人付款']\n",
      "['天猫国际进口超市', '江苏 苏州', '巴黎欧莱雅精油润养洗发水护发素洗护套装女洗发露官方旗舰店1.4L', 119.0, '2.0万+人付款']\n",
      "['欧莱雅官方旗舰店', '上海', '欧莱雅男士洗面奶控油祛痘黑头除螨虫收缩毛孔专用变白套装组合装', 58.9, '975人付款']\n",
      "['欧莱雅官方旗舰店', '上海', '欧莱雅男士专用变白洗面奶学生青少年控油去黑头祛痘除螨虫洁面乳', 29.9, '3188人付款']\n",
      "['loreal欧莱雅欧美斯专卖店', '北京', '欧莱雅烫发水药剂冷烫卷发家用烫刘海冷烫精烫头发软化膏定型药水', 38.6, '4014人付款']\n",
      "['loreal欧莱雅欧美斯专卖店', '上海', '欧莱雅男士专用洗面奶男控油祛痘螨虫去黑头变白洁面乳护肤品套装', 54.8, '1462人付款']\n",
      "['清泠', '江苏 苏州', '欧莱雅男士劲能醒肤露保湿面霜补水乳液夏季擦脸护肤品官方旗舰店', 79.0, '1789人付款']\n",
      "['清泠', '上海', '欧莱雅洗面奶男士套装火山岩泥控油祛痘黑头螨虫去角质死皮洁面乳', 59.9, '1087人付款']\n",
      "['欧莱雅官方旗舰店', '江苏 南京', '欧莱雅美发奇焕润发头发精油护发100ml适合各种发质 苏宁自营', 69.9, '593人付款']\n",
      "['欧莱雅官方旗舰店', '江苏 南京', '欧莱雅大金瓶洗发水护发素洗护套装柔顺洗发露 送赠品', 179.0, '6人付款']\n",
      "['欧莱雅官方旗舰店', '上海', '正品欧莱雅直发膏软化剂柔顺头发一梳直免夹免拉男女不伤发烫发水', 96.0, '1167人付款']\n",
      "['欧莱雅官方旗舰店', '江苏 苏州', '欧莱雅男士护肤品套装洗面奶夏季补水乳保湿面霜三件套官方旗舰店', 89.0, '1459人付款']\n",
      "['瑞驰化妆品专营店', '上海', '欧莱雅男士锐能眼霜抗皱紧致淡化细纹黑眼圈去眼袋官方旗舰店正品', 99.0, '1201人付款']\n",
      "['瑞驰化妆品专营店', '浙江 杭州', '欧莱雅男士护肤品套装三件套水能洗面奶乳液面霜补水保湿滋润酷爽', 79.0, '1490人付款']\n",
      "['欧莱雅美洁金信专卖店', '上海', '欧莱雅直发膏一洗直免拉永久定型软化剂拉直头发药一梳直免夹家用', 66.0, '1187人付款']\n",
      "['欧莱雅美洁金信专卖店', '广东 广州', '欧莱雅控油炭爽双效洁面膏护肤洗面奶男士专用保湿补水正品100ml', 33.8, '1856人付款']\n",
      "['loreal欧莱雅欧美斯专卖店', '广东 广州', '欧莱雅直发膏 一梳直头发洗直水家用免拉软化剂持久离子烫', 68.0, '852人付款']\n",
      "['loreal欧莱雅欧美斯专卖店', '上海', '欧莱雅洗面奶男控油祛痘除螨虫去黑头学生青少年专用变白组合套装', 99.9, '1106人付款']\n",
      "['欧莱雅恒骊祥专卖店', '广东 广州', '欧莱雅直发膏一洗直免拉永久定型软化剂拉直头发药一梳直免夹家用', 75.6, '1049人付款']\n",
      "['欧莱雅恒骊祥专卖店', '上海', '欧莱雅直发膏免夹免拉一梳直头发柔顺软化剂自然卷克星家用烫发水', 58.0, '2322人付款']\n",
      "['欧莱雅美发官方旗舰店', '广东 广州', \"L'OREAL /欧莱雅活力紧致透明质酸导入霜补水保湿修护面霜50ml\", 289.0, '1人付款']\n",
      "['欧莱雅美发官方旗舰店', '浙江 杭州', '欧莱雅直发膏一梳直头发永久定型软化剂家用拉直膏免夹免拉不伤发', 39.5, '4362人付款']\n",
      "['欧莱雅美发官方旗舰店', '广东 广州', \"L'OREAL /欧莱雅葡萄籽系列套装补水保湿乳液洁面精华液柔肤水\", 429.0, '25人付款']\n",
      "['欧莱雅美发官方旗舰店', '浙江 杭州', '欧莱雅直发膏头发柔顺滑一梳直免夹定型软化膏离子烫软发剂不伤发', 52.8, '2309人付款']\n",
      "['怡然居化妆品批发', '北京', '欧莱雅烫发水药剂冷烫卷发家用烫羊毛卷锡纸烫定型剂冷烫精药水', 38.6, '1199人付款']\n",
      "['怡然居化妆品批发', '', '巴黎欧莱雅桉树洁净洗面奶 150ml 洁净控油温和洁面滋润保湿', 149.0, '5人付款']\n",
      "['怡然居化妆品批发', '广东 深圳', '欧莱雅小黑瓶50ml青春密码酵素面部精华补水紧致抗衰老初老肌底液', 145.0, '228人付款']\n",
      "['怡然居化妆品批发', '上海', '欧莱雅直发膏一梳直免夹柔顺剂拉直膏家用软化剂不永久定型烫发水', 158.0, '343人付款']\n"
     ]
    }
   ],
   "source": [
    "import csv\n",
    "import openpyxl\n",
    "\n",
    "with open(\"./taobao_sale.csv\", encoding='utf_8_sig', newline=\"\") as f:\n",
    "    csv_reader = csv.reader(f)\n",
    "    line_list = []\n",
    "    for line in csv_reader:\n",
    "        if line[-1] == \"商品销量\":\n",
    "            line_list.append(line)\n",
    "            continue\n",
    "        line[-2] = line[-2].strip()\n",
    "        line[-2] = float(line[-2].replace(\"¥\", \"\"))\n",
    "        print(line)\n",
    "        if \"万\" in line[-1]:\n",
    "            line[-1] = int(float(line[-1].replace(\"人付款\", \"\").replace(\"+\", \"\").replace(\"万\", \"\"))*10000)\n",
    "        else:\n",
    "            line[-1] = int(line[-1].replace(\"人付款\", \"\").replace(\"+\", \"\"))\n",
    "#         print(line)\n",
    "        line_list.append(line)\n",
    "\n",
    "wb2 = openpyxl.Workbook()\n",
    "ws2 = wb2[\"Sheet\"]\n",
    "\n",
    "for i in line_list:\n",
    "    ws2.append(i)\n",
    "\n",
    "wb2.save(\"./taobao_sale.xlsx\")\n"
   ]
  },
  {
   "cell_type": "markdown",
   "metadata": {
    "heading_collapsed": true
   },
   "source": [
    "## World文件的读写"
   ]
  },
  {
   "cell_type": "code",
   "execution_count": 46,
   "metadata": {
    "ExecuteTime": {
     "end_time": "2020-08-24T17:28:40.491556Z",
     "start_time": "2020-08-24T17:28:34.825841Z"
    },
    "collapsed": true,
    "hidden": true
   },
   "outputs": [
    {
     "name": "stdout",
     "output_type": "stream",
     "text": [
      "Looking in indexes: https://mirrors.aliyun.com/pypi/simple/\n",
      "Collecting python-docx\n",
      "  Downloading https://mirrors.aliyun.com/pypi/packages/e4/83/c66a1934ed5ed8ab1dbb9931f1779079f8bca0f6bbc5793c06c4b5e7d671/python-docx-0.8.10.tar.gz (5.5 MB)\n",
      "\u001b[K     |████████████████████████████████| 5.5 MB 6.6 MB/s eta 0:00:01\n",
      "\u001b[?25hRequirement already satisfied: lxml>=2.3.2 in /usr/local/lib/python3.7/site-packages (from python-docx) (4.5.0)\n",
      "Building wheels for collected packages: python-docx\n",
      "  Building wheel for python-docx (setup.py) ... \u001b[?25ldone\n",
      "\u001b[?25h  Created wheel for python-docx: filename=python_docx-0.8.10-py3-none-any.whl size=184489 sha256=9ec706530382f4e95bf74e0f57eefb45c8fc82609f10602faf10e44387629af0\n",
      "  Stored in directory: /Users/evenyan/Library/Caches/pip/wheels/e8/6e/8e/85c45bffcdea274bb0571aecc3db34f80d2e388c707990dd63\n",
      "Successfully built python-docx\n",
      "Installing collected packages: python-docx\n",
      "Successfully installed python-docx-0.8.10\n"
     ]
    }
   ],
   "source": [
    "!pip3 install python-docx"
   ]
  },
  {
   "cell_type": "markdown",
   "metadata": {
    "hidden": true
   },
   "source": [
    "**Document**\n",
    "\n",
    "**paragraphs**\n",
    "\n",
    "**text**"
   ]
  },
  {
   "cell_type": "code",
   "execution_count": 136,
   "metadata": {
    "ExecuteTime": {
     "end_time": "2020-08-25T02:48:54.234223Z",
     "start_time": "2020-08-25T02:48:54.206938Z"
    },
    "collapsed": true,
    "hidden": true
   },
   "outputs": [
    {
     "name": "stdout",
     "output_type": "stream",
     "text": [
      "京东物流很给力早上下单晚上就收到了，紫黑色的玻璃瓶身很有质感，乳白色的霜体，味道很温和，不仔细闻闻不到香味，质地很细腻温润，触感丝滑，上脸不粘腻，油皮用起来也挺清爽的，按摩几下就吸收了，肤感不错，感觉也挺保湿的，一次一粒米大小的量应该能用很久，期待可以淡化我的黑眼\n",
      "使用感受：效果非常不错，随着年龄增加，精华液一定用起来适合肤质：适合各种肌肤，过敏肌肤除外，过敏肌肤要先试用一下吸收效果：非常容易吸收，不油腻，可以减少细纹保湿效果：保湿也很好，用完水再用精华，鲜活肌肤其他特色：气味清香，密集滋润，丝般柔滑，瓶子包装也很高大上，天天使用，肌肤质地可以得到改善，重现年轻光彩\n",
      "\n"
     ]
    }
   ],
   "source": [
    "from docx import Document\n",
    "\n",
    "d = Document(\"./demo.docx\")\n",
    "\n",
    "paragraph_list = d.paragraphs\n",
    "\n",
    "for p in paragraph_list:\n",
    "    print(p.text)\n"
   ]
  },
  {
   "cell_type": "code",
   "execution_count": 138,
   "metadata": {
    "ExecuteTime": {
     "end_time": "2020-08-25T02:50:04.628848Z",
     "start_time": "2020-08-25T02:50:04.582478Z"
    },
    "hidden": true
   },
   "outputs": [],
   "source": [
    "d1 = Document()\n",
    "\n",
    "d1.add_paragraph(\"这是一段新的文字\")\n",
    "\n",
    "d1.save(\"demo01.docx\")"
   ]
  },
  {
   "cell_type": "markdown",
   "metadata": {
    "hidden": true
   },
   "source": [
    "### 练习：将如下文本添加到Word文档中\n",
    "> 京东物流很给力早上下单晚上就收到了，紫黑色的玻璃瓶身很有质感，乳白色的霜体，味道很温和，不仔细闻闻不到香味，质地很细腻温润，触感丝滑，上脸不粘腻，油皮用起来也挺清爽的，按摩几下就吸收了，肤感不错，感觉也挺保湿的，一次一粒米大小的量应该能用很久，期待可以淡化我的黑眼\\n使用感受：效果非常不错，随着年龄增加，精华液一定用起来适合肤质：适合各种肌肤，过敏肌肤除外，过敏肌肤要先试用一下吸收效果：非常容易吸收，不油腻，可以减少细纹保湿效果：保湿也很好，用完水再用精华，鲜活肌肤其他特色：气味清香，密集滋润，丝般柔滑，瓶子包装也很高大上，天天使用，肌肤质地可以得到改善，重现年轻光彩。\n",
    "\n",
    "- 注意：文本中\\n表示换行，将每一行作为一个段落"
   ]
  },
  {
   "cell_type": "markdown",
   "metadata": {
    "heading_collapsed": true
   },
   "source": [
    "## PDF数据源"
   ]
  },
  {
   "cell_type": "code",
   "execution_count": null,
   "metadata": {
    "hidden": true
   },
   "outputs": [],
   "source": [
    "!pip3 install pdfplumber"
   ]
  },
  {
   "cell_type": "markdown",
   "metadata": {
    "hidden": true
   },
   "source": [
    "**pdfplumber模块的基本使用**\n",
    "- 打开PDF文件：`pdf = pdfplumber.open(pdf_file_name)`\n",
    "- 获取PDF文件的所有页面：`pages = pdf.pages`\n",
    "- 获取第一页PDF文件的内容：`text = pages[0].extract_text()`\n",
    "- 关闭PDF文件的IO管道：`pdf.close()`"
   ]
  },
  {
   "cell_type": "markdown",
   "metadata": {
    "hidden": true
   },
   "source": [
    "### 将PDF文件\"公司A理财公告.PDF\"中的表格提取到Excel中"
   ]
  },
  {
   "cell_type": "code",
   "execution_count": 143,
   "metadata": {
    "ExecuteTime": {
     "end_time": "2020-08-25T02:54:27.318339Z",
     "start_time": "2020-08-25T02:54:27.009982Z"
    },
    "collapsed": true,
    "hidden": true
   },
   "outputs": [
    {
     "data": {
      "text/plain": [
       "[['产品序号',\n",
       "  '产品名称',\n",
       "  '委托理财\\n金额（亿\\n元）',\n",
       "  '受托人\\n类型',\n",
       "  '资金来源',\n",
       "  '是否\\n保本',\n",
       "  '预计年化\\n收益率\\n（%）',\n",
       "  '产品\\n期限',\n",
       "  '产品\\n资金\\n投向',\n",
       "  '备注'],\n",
       " ['ZH070417009102D61',\n",
       "  '“乾元—特享\\n型”2017年第\\n107期理财产\\n品',\n",
       "  '0.1',\n",
       "  '银行',\n",
       "  '自有资金',\n",
       "  '否',\n",
       "  '4.65%',\n",
       "  '102天\\n（不\\n含产\\n品到\\n期日）',\n",
       "  '银行\\n理财\\n资金\\n池',\n",
       "  '详见公司\\n临\\n2017-098\\n号公告'],\n",
       " ['SAA937',\n",
       "  '荣耀专享14\\n号（已于\\n2017年12\\n月20日清\\n盘）',\n",
       "  '0.2',\n",
       "  '证券公\\n司',\n",
       "  '自有资金',\n",
       "  '是',\n",
       "  '4.9%',\n",
       "  '96天',\n",
       "  '补充\\n营运\\n资金',\n",
       "  '详见公司\\n临\\n2017-099\\n号公告'],\n",
       " ['GGHJ035',\n",
       "  '中国工商银\\n行法人挂钩\\n黄金人民币',\n",
       "  '0.3',\n",
       "  '银行',\n",
       "  '自有资金',\n",
       "  '否',\n",
       "  '4.3%-4.5%',\n",
       "  '105天',\n",
       "  '银行\\n理财\\n资金',\n",
       "  '详见公司\\n临\\n2017-102']]"
      ]
     },
     "execution_count": 143,
     "metadata": {},
     "output_type": "execute_result"
    }
   ],
   "source": [
    "import pdfplumber\n",
    "\n",
    "pdf = pdfplumber.open(\"./data/pdf_data/公司A理财公告.PDF\")\n",
    "\n",
    "pages = pdf.pages\n",
    "\n",
    "pages[3].extract_table()"
   ]
  },
  {
   "cell_type": "markdown",
   "metadata": {
    "heading_collapsed": true
   },
   "source": [
    "## 数据库文件"
   ]
  },
  {
   "cell_type": "markdown",
   "metadata": {
    "hidden": true
   },
   "source": [
    "### SQLite数据库介绍"
   ]
  },
  {
   "cell_type": "markdown",
   "metadata": {
    "ExecuteTime": {
     "end_time": "2020-08-24T17:19:54.128806Z",
     "start_time": "2020-08-24T17:19:54.098174Z"
    },
    "hidden": true
   },
   "source": [
    "**SQLite简介**\n",
    "> SQLite是一个软件库，实现了自给自足的、无服务器的、事务性的 SQL 数据库引擎。同时它是一个零配置的数据库，这意味着与其他数据库一样，我们不需要在系统中配置。SQLite是一个增长最快的数据库引擎。同时其源代码不受版权限制。\n",
    "\n",
    "**SQLite的优点**\n",
    "\n",
    "- 不需要一个单独的服务器进程或操作的系统（无服务器的）。\n",
    "\n",
    "- SQLite 不需要配置，这意味着不需要安装或管理。\n",
    "\n",
    "- 跨平台，可在 UNIX（Linux, Mac OS-X, Android, iOS）和 Windows（Win32, WinCE, WinRT）中运行\n",
    "\n",
    "- 是轻量级的，完全配置时小于 400KiB，省略可选功能配置时小于250KiB。\n",
    "\n",
    "- 不需要任何外部的依赖。\n",
    "\n",
    "- 完全兼容 ACID 的\n",
    "\n",
    "- SQLite 支持 SQL92（SQL2）标准的大多数查询语言的功能。\n",
    "\n",
    "**在Windows平台上安装sqlite数据库**\n",
    "\n",
    "SQLite数据库链接: https://pan.baidu.com/s/1H3H5N0JuIcmpd0G8KCttLw  密码: efft\n",
    "\n",
    "- 请访问 SQLite 下载页面，从 Windows 区下载预编译的二进制文件。\n",
    "\n",
    "- 您需要下载 sqlite-tools-win32-*.zip 和 sqlite-dll-win32-*.zip 压缩文件。\n",
    "\n",
    "- 在C盘创建文件夹 C:\\sqlite，并在此文件夹下解压上面两个压缩文件，将得到 sqlite3.def、sqlite3.dll 和 sqlite3.exe 文件。\n",
    "\n",
    "- 添加 C:\\sqlite 到 PATH 环境变量\n",
    "![image.png](./images/sqlite-1.jpg)\n",
    "\n",
    "![image.png](./images/sqlite-2.jpg)\n",
    "\n",
    "- 最后在命令提示符下，使用 sqlite3 命令，将显示如下结果。\n",
    "\n",
    "```sqlite\n",
    "C:\\>sqlite3\n",
    "SQLite version 3.7.15.2 2013-01-09 11:53:05\n",
    "Enter \".help\" for instructions\n",
    "Enter SQL statements terminated with a \";\"\n",
    "sqlite>\n",
    "\n",
    "```\n",
    "\n",
    "**在macOS平台上安装sqlite数据库**\n",
    "\n",
    "- 最新版本的 Mac OS X 会预安装 SQLite，但是如果没有可用的安装，只需按照如下步骤进行：\n",
    "\n",
    "- 请访问 SQLite 下载页面，从源代码区下载 sqlite-autoconf-*.tar.gz。\n",
    "\n",
    "- 安装步骤如下：\n",
    "\n",
    "```shell\n",
    "$ tar xvzf sqlite-autoconf-3080600.tar.gz\n",
    "$ cd sqlite-autoconf-3080600\n",
    "$ ./configure --prefix=/usr/local\n",
    "$ make\n",
    "$ make install\n",
    "```\n",
    "\n",
    "\n",
    "\n",
    "上述步骤将在 Mac OS X 机器上安装 SQLite，您可以使用下列命令进行验证：\n",
    "\n",
    "```shell\n",
    "$ sqlite3\n",
    "SQLite version 3.7.15.2 2013-01-09 11:53:05\n",
    "Enter \".help\" for instructions\n",
    "Enter SQL statements terminated with a \";\"\n",
    "sqlite>\n",
    "```\n",
    "\n",
    "**SQLite格式化输出**\n",
    "\n",
    "> 我们可以使用下列的点命令来格式化输出为本教程下面所列出的格式：\n",
    "\n",
    "```sqlite\n",
    "sqlite>.header on\n",
    "sqlite>.mode column\n",
    "sqlite>.timer on\n",
    "sqlite>\n",
    "\n",
    "```\n",
    "\n",
    "**SQLite基本操作**\n",
    "\n",
    "- 查看数据库\n",
    "```shell\n",
    "$ sqlite3 file_name.db\n",
    "```\n",
    "\n",
    "- 查看表数据\n",
    "\n",
    "```sqlite3\n",
    "sqlite> .tables\n",
    "```\n",
    "\n",
    "**利用Python操作SQLite**"
   ]
  },
  {
   "cell_type": "markdown",
   "metadata": {
    "heading_collapsed": true,
    "hidden": true
   },
   "source": [
    "### 利用Python操作数据库"
   ]
  },
  {
   "cell_type": "code",
   "execution_count": 144,
   "metadata": {
    "ExecuteTime": {
     "end_time": "2020-08-25T03:02:02.630299Z",
     "start_time": "2020-08-25T03:02:00.625696Z"
    },
    "hidden": true
   },
   "outputs": [
    {
     "name": "stdout",
     "output_type": "stream",
     "text": [
      "Looking in indexes: https://mirrors.aliyun.com/pypi/simple/\r\n",
      "Requirement already satisfied: peewee in /usr/local/lib/python3.7/site-packages (3.13.3)\r\n"
     ]
    }
   ],
   "source": [
    "!pip3 install peewee"
   ]
  },
  {
   "cell_type": "markdown",
   "metadata": {
    "hidden": true
   },
   "source": [
    "**连接数据库**\n",
    "```python\n",
    "import peewee as pw\n",
    "db = pw.SqliteDatabase('data.db')\n",
    "```\n",
    "\n",
    "**定义数据模型**\n",
    "```python\n",
    "class ModelName(pw.Model):\n",
    "    class Meta:\n",
    "        database = db\n",
    "\n",
    "    column1 = pw.CharField()\n",
    "    column2 = pw.IntegerField()\n",
    "```\n",
    "\n",
    "**创建表**\n",
    "```python\n",
    "ModelName.create_table()\n",
    "```\n",
    "\n",
    "**增删改查**\n",
    "- 增加数据\n",
    "    - ModelName.create(column1=value1, column2=value2)\n",
    "- 查找数据\n",
    "    - p = ModelName.get(column1=value1, column2=value2)\n",
    "    - people_obj = People.select()\n",
    "    - list(people_obj)\n",
    "- 删除数据\n",
    "    - p.delete_instance()\n",
    "- 保存数据\n",
    "    - p.column1 = value_1\n",
    "    - p.save()"
   ]
  },
  {
   "cell_type": "code",
   "execution_count": 153,
   "metadata": {
    "ExecuteTime": {
     "end_time": "2020-08-25T04:08:37.743464Z",
     "start_time": "2020-08-25T04:08:37.656849Z"
    },
    "hidden": true
   },
   "outputs": [],
   "source": [
    "import peewee as pw\n",
    "\n",
    "db = pw.SqliteDatabase(\"./data.db\")"
   ]
  },
  {
   "cell_type": "code",
   "execution_count": 154,
   "metadata": {
    "ExecuteTime": {
     "end_time": "2020-08-25T04:09:53.943951Z",
     "start_time": "2020-08-25T04:09:53.940217Z"
    },
    "hidden": true
   },
   "outputs": [],
   "source": [
    "class GoodInfo(pw.Model):\n",
    "    class Meta:\n",
    "        database = db\n",
    "\n",
    "    good_name = pw.CharField()\n",
    "    price = pw.IntegerField()"
   ]
  },
  {
   "cell_type": "code",
   "execution_count": 155,
   "metadata": {
    "ExecuteTime": {
     "end_time": "2020-08-25T04:10:19.994311Z",
     "start_time": "2020-08-25T04:10:19.988670Z"
    },
    "hidden": true
   },
   "outputs": [],
   "source": [
    "GoodInfo.create_table()"
   ]
  },
  {
   "cell_type": "code",
   "execution_count": 156,
   "metadata": {
    "ExecuteTime": {
     "end_time": "2020-08-25T04:12:27.066328Z",
     "start_time": "2020-08-25T04:12:27.060965Z"
    },
    "hidden": true
   },
   "outputs": [
    {
     "data": {
      "text/plain": [
       "<GoodInfo: 1>"
      ]
     },
     "execution_count": 156,
     "metadata": {},
     "output_type": "execute_result"
    }
   ],
   "source": [
    "# 往数据库中插入数据\n",
    "GoodInfo.create(good_name=\"苹果\", price=6)"
   ]
  },
  {
   "cell_type": "code",
   "execution_count": 157,
   "metadata": {
    "ExecuteTime": {
     "end_time": "2020-08-25T04:13:37.765326Z",
     "start_time": "2020-08-25T04:13:37.760133Z"
    },
    "hidden": true
   },
   "outputs": [
    {
     "data": {
      "text/plain": [
       "<GoodInfo: 2>"
      ]
     },
     "execution_count": 157,
     "metadata": {},
     "output_type": "execute_result"
    }
   ],
   "source": [
    "GoodInfo.create(good_name=\"梨子\", price=63)"
   ]
  },
  {
   "cell_type": "code",
   "execution_count": 158,
   "metadata": {
    "ExecuteTime": {
     "end_time": "2020-08-25T04:13:54.372026Z",
     "start_time": "2020-08-25T04:13:54.366641Z"
    },
    "hidden": true,
    "scrolled": true
   },
   "outputs": [
    {
     "data": {
      "text/plain": [
       "<GoodInfo: 3>"
      ]
     },
     "execution_count": 158,
     "metadata": {},
     "output_type": "execute_result"
    }
   ],
   "source": [
    "GoodInfo.create(good_name=\"橘子\", price=7)"
   ]
  },
  {
   "cell_type": "code",
   "execution_count": 161,
   "metadata": {
    "ExecuteTime": {
     "end_time": "2020-08-25T04:14:59.234344Z",
     "start_time": "2020-08-25T04:14:59.229127Z"
    },
    "hidden": true
   },
   "outputs": [
    {
     "name": "stdout",
     "output_type": "stream",
     "text": [
      "橘子\n",
      "7\n"
     ]
    }
   ],
   "source": [
    "# 数据查找\n",
    "\n",
    "# 按照属性查找单条数据\n",
    "p = GoodInfo.get(good_name=\"橘子\")\n",
    "print(p.good_name)\n",
    "print(p.price)"
   ]
  },
  {
   "cell_type": "code",
   "execution_count": 165,
   "metadata": {
    "ExecuteTime": {
     "end_time": "2020-08-25T04:16:48.142807Z",
     "start_time": "2020-08-25T04:16:48.137882Z"
    },
    "collapsed": true,
    "hidden": true
   },
   "outputs": [
    {
     "name": "stdout",
     "output_type": "stream",
     "text": [
      "苹果\n",
      "6\n",
      "梨子\n",
      "63\n",
      "橘子\n",
      "7\n"
     ]
    }
   ],
   "source": [
    "# 查找数据库中的所有数据\n",
    "good_list = GoodInfo.select()\n",
    "\n",
    "for good in good_list:\n",
    "    print(good.good_name)\n",
    "    print(good.price)"
   ]
  },
  {
   "cell_type": "code",
   "execution_count": 169,
   "metadata": {
    "ExecuteTime": {
     "end_time": "2020-08-25T04:18:00.954762Z",
     "start_time": "2020-08-25T04:18:00.949753Z"
    },
    "hidden": true
   },
   "outputs": [
    {
     "data": {
      "text/plain": [
       "1"
      ]
     },
     "execution_count": 169,
     "metadata": {},
     "output_type": "execute_result"
    }
   ],
   "source": [
    "p.good_name = \"大橘子\"\n",
    "p.save()"
   ]
  },
  {
   "cell_type": "code",
   "execution_count": 170,
   "metadata": {
    "ExecuteTime": {
     "end_time": "2020-08-25T04:18:24.020485Z",
     "start_time": "2020-08-25T04:18:24.015489Z"
    },
    "hidden": true
   },
   "outputs": [
    {
     "data": {
      "text/plain": [
       "1"
      ]
     },
     "execution_count": 170,
     "metadata": {},
     "output_type": "execute_result"
    }
   ],
   "source": [
    "p.delete_instance()"
   ]
  },
  {
   "cell_type": "markdown",
   "metadata": {
    "heading_collapsed": true,
    "hidden": true
   },
   "source": [
    "### 练习：将taobao.csv文件中的数据保存到sqlite中"
   ]
  },
  {
   "cell_type": "code",
   "execution_count": 177,
   "metadata": {
    "ExecuteTime": {
     "end_time": "2020-08-25T04:25:25.446856Z",
     "start_time": "2020-08-25T04:25:25.393590Z"
    },
    "hidden": true
   },
   "outputs": [],
   "source": [
    "import csv\n",
    "\n",
    "with open(\"./taobao_sale.csv\", encoding='utf_8_sig', newline=\"\") as f:\n",
    "    csv_reader = csv.reader(f)\n",
    "    for line in csv_reader:\n",
    "        if line[-1] == \"商品销量\":\n",
    "            continue\n",
    "        line[-2] = line[-2].strip()\n",
    "        line[-2] = int(float(line[-2].replace(\"¥\", \"\")))\n",
    "        GoodInfo.create(good_name=line[2], price=line[-1])"
   ]
  },
  {
   "cell_type": "markdown",
   "metadata": {},
   "source": [
    "# Python数据采集"
   ]
  },
  {
   "cell_type": "markdown",
   "metadata": {},
   "source": [
    "## 网页结构基础"
   ]
  },
  {
   "cell_type": "markdown",
   "metadata": {
    "heading_collapsed": true
   },
   "source": [
    "### 查看网页源码"
   ]
  },
  {
   "cell_type": "markdown",
   "metadata": {
    "heading_collapsed": true
   },
   "source": [
    "### HTML基础"
   ]
  },
  {
   "cell_type": "markdown",
   "metadata": {},
   "source": [
    "## 利用基础爬虫获取静态网页的数据"
   ]
  },
  {
   "cell_type": "markdown",
   "metadata": {
    "heading_collapsed": true
   },
   "source": [
    "### 最简单的爬虫"
   ]
  },
  {
   "cell_type": "code",
   "execution_count": 183,
   "metadata": {
    "ExecuteTime": {
     "end_time": "2020-08-25T07:02:15.162121Z",
     "start_time": "2020-08-25T07:02:15.107898Z"
    },
    "hidden": true
   },
   "outputs": [],
   "source": [
    "from urllib.request import urlopen\n",
    "\n",
    "resp = urlopen(\"https://www.baidu.com\")\n",
    "\n",
    "with open(\"./baidu_https.html\", \"wb\") as f:\n",
    "    f.write(resp.read())\n",
    "\n"
   ]
  },
  {
   "cell_type": "markdown",
   "metadata": {},
   "source": [
    "### HTTP请求库：requests"
   ]
  },
  {
   "cell_type": "code",
   "execution_count": 184,
   "metadata": {
    "ExecuteTime": {
     "end_time": "2020-08-25T07:03:12.280471Z",
     "start_time": "2020-08-25T07:03:10.248900Z"
    },
    "collapsed": true
   },
   "outputs": [
    {
     "name": "stdout",
     "output_type": "stream",
     "text": [
      "Looking in indexes: https://mirrors.aliyun.com/pypi/simple/\r\n",
      "Requirement already satisfied: requests in /usr/local/lib/python3.7/site-packages (2.23.0)\r\n",
      "Requirement already satisfied: chardet<4,>=3.0.2 in /usr/local/lib/python3.7/site-packages (from requests) (3.0.4)\r\n",
      "Requirement already satisfied: idna<3,>=2.5 in /usr/local/lib/python3.7/site-packages (from requests) (2.9)\r\n",
      "Requirement already satisfied: certifi>=2017.4.17 in /usr/local/lib/python3.7/site-packages (from requests) (2019.11.28)\r\n",
      "Requirement already satisfied: urllib3!=1.25.0,!=1.25.1,<1.26,>=1.21.1 in /usr/local/lib/python3.7/site-packages (from requests) (1.25.8)\r\n"
     ]
    }
   ],
   "source": [
    "!pip3 install requests"
   ]
  },
  {
   "cell_type": "code",
   "execution_count": 192,
   "metadata": {
    "ExecuteTime": {
     "end_time": "2020-08-25T07:07:07.837570Z",
     "start_time": "2020-08-25T07:07:07.773563Z"
    },
    "collapsed": true
   },
   "outputs": [
    {
     "name": "stdout",
     "output_type": "stream",
     "text": [
      "200\n",
      "{'User-Agent': 'python-requests/2.23.0', 'Accept-Encoding': 'gzip, deflate', 'Accept': '*/*', 'Connection': 'keep-alive'}\n",
      "<!DOCTYPE html>\r\n",
      "<!--STATUS OK--><html> <head><meta http-equiv=content-type content=text/html;charset=utf-8><meta http-equiv=X-UA-Compatible content=IE=Edge><meta content=always name=referrer><link rel=stylesheet type=text/css href=https://ss1.bdstatic.com/5eN1bjq8AAUYm2zgoY3K/r/www/cache/bdorz/baidu.min.css><title>百度一下，你就知道</title></head> <body link=#0000cc> <div id=wrapper> <div id=head> <div class=head_wrapper> <div class=s_form> <div class=s_form_wrapper> <div id=lg> <img hidefocus=true src=//www.baidu.com/img/bd_logo1.png width=270 height=129> </div> <form id=form name=f action=//www.baidu.com/s class=fm> <input type=hidden name=bdorz_come value=1> <input type=hidden name=ie value=utf-8> <input type=hidden name=f value=8> <input type=hidden name=rsv_bp value=1> <input type=hidden name=rsv_idx value=1> <input type=hidden name=tn value=baidu><span class=\"bg s_ipt_wr\"><input id=kw name=wd class=s_ipt value maxlength=255 autocomplete=off autofocus=autofocus></span><span class=\"bg s_btn_wr\"><input type=submit id=su value=百度一下 class=\"bg s_btn\" autofocus></span> </form> </div> </div> <div id=u1> <a href=http://news.baidu.com name=tj_trnews class=mnav>新闻</a> <a href=https://www.hao123.com name=tj_trhao123 class=mnav>hao123</a> <a href=http://map.baidu.com name=tj_trmap class=mnav>地图</a> <a href=http://v.baidu.com name=tj_trvideo class=mnav>视频</a> <a href=http://tieba.baidu.com name=tj_trtieba class=mnav>贴吧</a> <noscript> <a href=http://www.baidu.com/bdorz/login.gif?login&amp;tpl=mn&amp;u=http%3A%2F%2Fwww.baidu.com%2f%3fbdorz_come%3d1 name=tj_login class=lb>登录</a> </noscript> <script>document.write('<a href=\"http://www.baidu.com/bdorz/login.gif?login&tpl=mn&u='+ encodeURIComponent(window.location.href+ (window.location.search === \"\" ? \"?\" : \"&\")+ \"bdorz_come=1\")+ '\" name=\"tj_login\" class=\"lb\">登录</a>');\r\n",
      "                </script> <a href=//www.baidu.com/more/ name=tj_briicon class=bri style=\"display: block;\">更多产品</a> </div> </div> </div> <div id=ftCon> <div id=ftConw> <p id=lh> <a href=http://home.baidu.com>关于百度</a> <a href=http://ir.baidu.com>About Baidu</a> </p> <p id=cp>&copy;2017&nbsp;Baidu&nbsp;<a href=http://www.baidu.com/duty/>使用百度前必读</a>&nbsp; <a href=http://jianyi.baidu.com/ class=cp-feedback>意见反馈</a>&nbsp;京ICP证030173号&nbsp; <img src=//www.baidu.com/img/gs.gif> </p> </div> </div> </div> </body> </html>\r\n",
      "\n"
     ]
    }
   ],
   "source": [
    "import requests\n",
    "\n",
    "resp = requests.get(\"https://www.baidu.com\")\n",
    "print(resp.status_code)\n",
    "print(resp.request.headers)\n",
    "print(resp.content.decode(\"utf-8\"))\n",
    "\n",
    "with open(\"./baidu_requests.html\", 'w', encoding='utf-8') as f:\n",
    "    f.write(resp.content.decode('utf-8'))"
   ]
  },
  {
   "cell_type": "markdown",
   "metadata": {},
   "source": [
    "发送网络请求，返回响应数据\n",
    "\n",
    "- 安装\n",
    "\n",
    "```shell\n",
    "pip3 install requests\n",
    "```\n",
    "\n",
    "- 优点\n",
    "   - requests的底层实现就是urllib\n",
    "   - requests在python2和python3中通用\n",
    "   - requests简单易用\n",
    "\n",
    "- 简单请求：response = requests.get(url)\n",
    "  - response.text：返回值是str\n",
    "  - respones.content：返回值是bytes\n",
    "  - response.status_code\n",
    "  - response.request.headers\n",
    "  - response.headers"
   ]
  },
  {
   "cell_type": "markdown",
   "metadata": {},
   "source": [
    "**带header的请求**\n",
    "\n",
    "- 为什么请求需要带上header？\n",
    "\n",
    "  - 模拟浏览器，欺骗服务器，获取和浏览器一致的内容\n",
    "\n",
    "- header的形式：字典\n",
    "\n",
    "  ```\n",
    "  headers = {\"User-Agent\": \"Mozilla/5.0 (Windows NT 10.0; Win64; x64) AppleWebKit/537.36 (KHTML, like Gecko) Chrome/54.0.2840.99 Safari/537.36\"} \n",
    "  ```\n",
    "\n",
    "- 用法： requests.get(url,headers=headers)"
   ]
  },
  {
   "cell_type": "code",
   "execution_count": 199,
   "metadata": {
    "ExecuteTime": {
     "end_time": "2020-08-25T07:17:50.792829Z",
     "start_time": "2020-08-25T07:17:50.664397Z"
    },
    "collapsed": true
   },
   "outputs": [
    {
     "name": "stdout",
     "output_type": "stream",
     "text": [
      "200\n",
      "<!doctype html>\n",
      "<html lang=\"zh\" data-hairline=\"true\" data-theme=\"light\"><head><meta charSet=\"utf-8\"/><title data-react-helmet=\"true\">知乎 - 有问题，上知乎</title><meta name=\"viewport\" content=\"width=device-width,initial-scale=1,maximum-scale=1\"/><meta name=\"renderer\" content=\"webkit\"/><meta name=\"force-rendering\" content=\"webkit\"/><meta http-equiv=\"X-UA-Compatible\" content=\"IE=edge,chrome=1\"/><meta name=\"google-site-verification\" content=\"FTeR0c8arOPKh8c5DYh_9uu98_zJbaWw53J-Sch9MTg\"/><meta name=\"description\" property=\"og:description\" content=\"有问题，上知乎。知乎，可信赖的问答社区，以让每个人高效获得可信赖的解答为使命。知乎凭借认真、专业和友善的社区氛围，结构化、易获得的优质内容，基于问答的内容生产方式和独特的社区机制，吸引、聚集了各行各业中大量的亲历者、内行人、领域专家、领域爱好者，将高质量的内容透过人的节点来成规模地生产和分享。用户通过问答等交流方式建立信任和连接，打造和提升个人影响力，并发现、获得新机会。\"/><link data-react-helmet=\"true\" rel=\"apple-touch-icon\" href=\"https://static.zhihu.com/heifetz/assets/apple-touch-icon-152.67c7b278.png\"/><link data-react-helmet=\"true\" rel=\"apple-touch-icon\" href=\"https://static.zhihu.com/heifetz/assets/apple-touch-icon-152.67c7b278.png\" sizes=\"152x152\"/><link data-react-helmet=\"true\" rel=\"apple-touch-icon\" href=\"https://static.zhihu.com/heifetz/assets/apple-touch-icon-120.b3e6278d.png\" sizes=\"120x120\"/><link data-react-helmet=\"true\" rel=\"apple-touch-icon\" href=\"https://static.zhihu.com/heifetz/assets/apple-touch-icon-76.7a750095.png\" sizes=\"76x76\"/><link data-react-helmet=\"true\" rel=\"apple-touch-icon\" href=\"https://static.zhihu.com/heifetz/assets/apple-touch-icon-60.a4a761d4.png\" sizes=\"60x60\"/><link rel=\"shortcut icon\" type=\"image/x-icon\" href=\"https://static.zhihu.com/static/favicon.ico\"/><link rel=\"search\" type=\"application/opensearchdescription+xml\" href=\"https://static.zhihu.com/static/search.xml\" title=\"知乎\"/><link rel=\"dns-prefetch\" href=\"//static.zhimg.com\"/><link rel=\"dns-prefetch\" href=\"//pic1.zhimg.com\"/><link rel=\"dns-prefetch\" href=\"//pic2.zhimg.com\"/><link rel=\"dns-prefetch\" href=\"//pic3.zhimg.com\"/><link rel=\"dns-prefetch\" href=\"//pic4.zhimg.com\"/><style>\n",
      ".u-safeAreaInset-top {\n",
      "  height: constant(safe-area-inset-top) !important;\n",
      "  height: env(safe-area-inset-top) !important;\n",
      "  \n",
      "}\n",
      ".u-safeAreaInset-bottom {\n",
      "  height: constant(safe-area-inset-bottom) !important;\n",
      "  height: env(safe-area-inset-bottom) !important;\n",
      "  \n",
      "}\n",
      "</style><link href=\"https://static.zhihu.com/heifetz/main.app.216a26f4.0fd72982f997e576c586.css\" rel=\"stylesheet\"/><link href=\"https://static.zhihu.com/heifetz/main.sign-page.216a26f4.45808dc52eb5973d1547.css\" rel=\"stylesheet\"/><script defer=\"\" crossorigin=\"anonymous\" src=\"https://unpkg.zhimg.com/@cfe/sentry-script@latest/dist/init.js\" data-sentry-config=\"{&quot;dsn&quot;:&quot;https://2d8d764432cc4f6fb3bc78ab9528299d@crash2.zhihu.com/1224&quot;,&quot;sampleRate&quot;:0.1,&quot;release&quot;:&quot;502-3162490a&quot;,&quot;ignoreErrorNames&quot;:[&quot;NetworkError&quot;,&quot;SecurityError&quot;],&quot;ignoreErrors&quot;:[&quot;origin message&quot;,&quot;Network request failed&quot;,&quot;Loading chunk&quot;,&quot;这个系统不支持该功能。&quot;,&quot;Can&#x27;t find variable: webkit&quot;,&quot;Can&#x27;t find variable: $&quot;,&quot;内存不足&quot;,&quot;out of memory&quot;,&quot;DOM Exception 18&quot;,&quot;The operation is insecure&quot;,&quot;[object Event]&quot;,&quot;[object FileError]&quot;,&quot;[object DOMError]&quot;,&quot;[object Object]&quot;,&quot;拒绝访问。&quot;,&quot;Maximum call stack size exceeded&quot;,&quot;UploadError&quot;,&quot;无法 fetch&quot;,&quot;draft-js&quot;,&quot;缺少 JavaScript 对象&quot;,&quot;componentWillEnter&quot;,&quot;componentWillLeave&quot;,&quot;componentWillAppear&quot;,&quot;getInlineStyleAt&quot;,&quot;getCharacterList&quot;],&quot;whitelistUrls&quot;:[&quot;static.zhihu.com&quot;]}\"></script></head><body><div id=\"root\"><div><div class=\"LoadingBar\"></div><main role=\"main\" class=\"App-main\"><div class=\"SignFlowHomepage\"><div class=\"SignFlowHomepage-content\"><img class=\"SignFlowHomepage-logo\" src=\"https://pic4.zhimg.com/80/v2-a47051e92cf74930bedd7469978e6c08_hd.png\"/><style data-emotion-css=\"i6bazn\">.css-i6bazn{overflow:hidden;}</style><style data-emotion-css=\"1vwxb96\">.css-1vwxb96{box-sizing:border-box;margin:0;min-width:0;padding:0;background-color:#FFFFFF;box-shadow:0 1px 3px rgba(26,26,26,0.1);border-radius:2px;background-color:#FFFFFF;width:400px;overflow:hidden;}.css-1vwxb96+.css-1vwxb96{margin-top:10px;}</style><div class=\"css-1vwxb96\"><div class=\"SignContainer-content\"><div class=\"SignContainer-inner\"><form novalidate=\"\" class=\"SignFlow Login-content\"><div class=\"SignFlow-tabs\"><div class=\"SignFlow-tab SignFlow-tab--active\">免密码登录</div><div class=\"SignFlow-tab\">密码登录</div><div class=\"SignFlow-qrcodeTab\"><svg width=\"52\" height=\"52\" xmlns:xlink=\"http://www.w3.org/1999/xlink\" fill=\"currentColor\"><defs><path id=\"id-3938311804-a\" d=\"M0 0h48a4 4 0 0 1 4 4v48L0 0z\"></path></defs><g fill=\"none\" fill-rule=\"evenodd\"><mask id=\"id-3938311804-b\" fill=\"#fff\"><use xlink:href=\"#id-3938311804-a\"></use></mask><use fill=\"#0084FF\" xlink:href=\"#id-3938311804-a\"></use><image width=\"52\" height=\"52\" mask=\"url(#id-3938311804-b)\" xlink:href=\"data:image/png;base64,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\"></image></g></svg></div></div><div class=\"SignFlow-account\"><div class=\"SignFlowInput SignFlow-accountInputContainer\"><label class=\"SignFlow-accountInput Input-wrapper\"><input type=\"tel\" value=\"\" name=\"username\" class=\"Input\" placeholder=\"手机号\"/></label><div class=\"SignFlowInput-errorMask SignFlowInput-requiredErrorMask SignFlowInput-errorMask--hidden\"></div></div></div><div class=\"Captcha SignFlow-captchaContainer\" style=\"width:0;height:0;opacity:0;overflow:hidden;margin:0;padding:0;border:0\"><div><div class=\"Captcha-chineseOperator\"><span class=\"Captcha-info\">请点击图中倒立的文字</span><button type=\"button\" class=\"Button Captcha-chineseRefreshButton Button--plain\"><svg class=\"Zi Zi--Refresh\" fill=\"currentColor\" viewBox=\"0 0 24 24\" width=\"20\" height=\"20\"><path d=\"M20 12.878C20 17.358 16.411 21 12 21s-8-3.643-8-8.122c0-4.044 3.032-7.51 6.954-8.038.034-1.185.012-1.049.012-1.049-.013-.728.461-1.003 1.057-.615l3.311 2.158c.598.39.596 1.026 0 1.418l-3.31 2.181c-.598.393-1.08.12-1.079-.606 0 0 .006-.606-.003-1.157-2.689.51-4.675 2.9-4.675 5.708 0 3.21 2.572 5.822 5.733 5.822 3.163 0 5.733-2.612 5.733-5.822 0-.633.51-1.148 1.134-1.148.625 0 1.133.515 1.133 1.148\" fill-rule=\"evenodd\"></path></svg></button></div><div class=\"Captcha-chineseContainer\"><img data-tooltip=\"看不清楚？换一张\" class=\"Captcha-chineseImg\" src=\"data:image/jpg;base64,null\" alt=\"图形验证码\"/></div></div></div><div class=\"SignFlow SignFlow-smsInputContainer\"><div class=\"SignFlowInput SignFlow-smsInput\"><label class=\"Input-wrapper\"><input type=\"number\" value=\"\" name=\"digits\" class=\"Input\" placeholder=\"输入 6 位短信验证码\"/></label><div class=\"SignFlowInput-errorMask SignFlowInput-requiredErrorMask SignFlowInput-errorMask--hidden\"></div></div><button type=\"button\" class=\"Button CountingDownButton SignFlow-smsInputButton Button--plain\">获取短信验证码</button></div><div class=\"Login-options\"><button type=\"button\" class=\"Button Login-switchType Button--plain\"></button><button type=\"button\" class=\"Button Login-cannotLogin Button--plain\">接收语音验证码</button></div><button type=\"submit\" class=\"Button SignFlow-submitButton Button--primary Button--blue\">注册/<!-- -->登录</button><div class=\"SignContainer-tip\"><div><div>未注册手机验证后自动登录，注册即代表同意<a href=\"https://www.zhihu.com/term/zhihu-terms\">《知乎协议》</a><a href=\"https://www.zhihu.com/term/privacy\">《隐私保护指引》</a></div></div></div></form><div class=\"SignFlowQRImage SignFlowQRImage--isHidden\"><div></div></div></div></div><style data-emotion-css=\"1hmxk26\">.css-1hmxk26{box-sizing:border-box;margin:0;min-width:0;border-top:1px solid;border-color:#EBEBEB;margin-left:24px;margin-right:24px;}</style><div class=\"css-1hmxk26\"></div><div class=\"Login-socialLogin\"><span>社交帐号登录</span><span class=\"Login-socialButtonGroup\"><button type=\"button\" class=\"Button Login-socialButton Button--plain\"><svg class=\"Zi Zi--WeChat Login-socialIcon\" fill=\"#60c84d\" viewBox=\"0 0 24 24\" width=\"20\" height=\"20\"><path d=\"M2.224 21.667s4.24-1.825 4.788-2.056C15.029 23.141 22 17.714 22 11.898 22 6.984 17.523 3 12 3S2 6.984 2 11.898c0 1.86.64 3.585 1.737 5.013-.274.833-1.513 4.756-1.513 4.756zm5.943-9.707c.69 0 1.25-.569 1.25-1.271a1.26 1.26 0 0 0-1.25-1.271c-.69 0-1.25.569-1.25 1.27 0 .703.56 1.272 1.25 1.272zm7.583 0c.69 0 1.25-.569 1.25-1.271a1.26 1.26 0 0 0-1.25-1.271c-.69 0-1.25.569-1.25 1.27 0 .703.56 1.272 1.25 1.272z\" fill-rule=\"evenodd\"></path></svg>微信</button><button type=\"button\" class=\"Button Login-socialButton Button--plain\"><svg class=\"Zi Zi--QQ Login-socialIcon\" fill=\"#50c8fd\" viewBox=\"0 0 24 24\" width=\"20\" height=\"20\"><path d=\"M12.003 2c-2.265 0-6.29 1.364-6.29 7.325v1.195S3.55 14.96 3.55 17.474c0 .665.17 1.025.281 1.025.114 0 .902-.484 1.748-2.072 0 0-.18 2.197 1.904 3.967 0 0-1.77.495-1.77 1.182 0 .686 4.078.43 6.29 0 2.239.425 6.287.687 6.287 0 0-.688-1.768-1.182-1.768-1.182 2.085-1.77 1.905-3.967 1.905-3.967.845 1.588 1.634 2.072 1.746 2.072.111 0 .283-.36.283-1.025 0-2.514-2.166-6.954-2.166-6.954V9.325C18.29 3.364 14.268 2 12.003 2z\" fill-rule=\"evenodd\"></path></svg>QQ</button><button type=\"button\" class=\"Button Login-socialButton Button--plain\"><svg class=\"Zi Zi--Weibo Login-socialIcon\" fill=\"#fb6622\" viewBox=\"0 0 24 24\" width=\"20\" height=\"20\"><path fill=\"#FB6622\" d=\"M15.518 3.06c8.834-.854 7.395 7.732 7.394 7.731-.625 1.439-1.673.309-1.673.309.596-7.519-5.692-6.329-5.692-6.329-.898-1.067-.029-1.711-.029-1.711zm4.131 6.985c-.661 1.01-1.377.126-1.376.126.205-3.179-2.396-2.598-2.396-2.598-.719-.765-.091-1.346-.091-1.346 4.882-.551 3.863 3.818 3.863 3.818zM5.317 7.519s4.615-3.86 6.443-1.328c0 0 .662 1.08-.111 2.797.003-.003 3.723-1.96 5.408.159 0 0 .848 1.095-.191 2.649 0 0 2.918-.099 2.918 2.715 0 2.811-4.104 6.44-9.315 6.44-5.214 0-8.026-2.092-8.596-3.102 0 0-3.475-4.495 3.444-10.33zm10.448 7.792s.232-4.411-5.71-4.207c-6.652.231-6.579 4.654-6.579 4.654.021.39.097 3.713 5.842 3.713 5.98 0 6.447-4.16 6.447-4.16zm-9.882.86s-.059-3.632 3.804-3.561c3.412.06 3.206 3.165 3.206 3.165s-.026 2.979-3.684 2.979c-3.288 0-3.326-2.583-3.326-2.583zm2.528 1.037c.672 0 1.212-.447 1.212-.998 0-.551-.543-.998-1.212-.998-.672 0-1.215.447-1.215.998 0 .551.546.998 1.215.998z\" fill-rule=\"evenodd\"></path></svg>微博</button></span></div><style data-emotion-css=\"1pk3pp1\">.css-1pk3pp1{box-sizing:border-box;margin:0;min-width:0;padding-left:24px;padding-right:24px;color:#0084FF;width:400px;height:60px;-webkit-align-items:center;-webkit-box-align:center;-ms-flex-align:center;align-items:center;background-color:#F6F6F6;display:-webkit-box;display:-webkit-flex;display:-ms-flexbox;display:flex;}</style><div class=\"css-1pk3pp1\"><style data-emotion-css=\"1pysja1\">.css-1pysja1{box-sizing:border-box;margin:0;min-width:0;-webkit-flex:1;-ms-flex:1;flex:1;}</style><div class=\"css-1pysja1\"><style data-emotion-css=\"jzr1wa\">.css-jzr1wa{box-sizing:border-box;margin:0;min-width:0;color:#175199;color:inherit;}</style><a href=\"/org/signup\" data-za-detail-view-id=\"4943\" class=\"css-jzr1wa\"><style data-emotion-css=\"vfpo4o\">.css-vfpo4o{margin-right:.5em;}</style><span style=\"display:inline-flex;align-items:center\">​<svg class=\"Zi Zi--BadgeCert css-vfpo4o\" fill=\"currentColor\" viewBox=\"0 0 24 24\" width=\"26\" height=\"26\"><g fill=\"none\" fill-rule=\"evenodd\"><path fill=\"#0F88EB\" d=\"M2.64 13.39c1.068.895 1.808 2.733 1.66 4.113l.022-.196c-.147 1.384.856 2.4 2.24 2.278l-.198.016c1.387-.122 3.21.655 4.083 1.734l-.125-.154c.876 1.084 2.304 1.092 3.195.027l-.127.152c.895-1.068 2.733-1.808 4.113-1.66l-.198-.022c1.386.147 2.402-.856 2.279-2.238l.017.197c-.122-1.388.655-3.212 1.734-4.084l-.154.125c1.083-.876 1.092-2.304.027-3.195l.152.127c-1.068-.895-1.808-2.732-1.66-4.113l-.022.198c.147-1.386-.856-2.4-2.24-2.279l.198-.017c-1.387.123-3.21-.654-4.083-1.733l.125.153c-.876-1.083-2.304-1.092-3.195-.027l.127-.152c-.895 1.068-2.733 1.808-4.113 1.662l.198.02c-1.386-.147-2.4.857-2.279 2.24L4.4 6.363c.122 1.387-.655 3.21-1.734 4.084l.154-.126c-1.083.878-1.092 2.304-.027 3.195l-.152-.127z\"></path><path fill=\"#FFF\" d=\"M9.78 15.728l-2.633-2.999s-.458-.705.242-1.362c.7-.657 1.328-.219 1.328-.219l1.953 2.132 4.696-4.931s.663-.348 1.299.198c.636.545.27 1.382.27 1.382s-3.466 3.858-5.376 5.782c-.98.93-1.778.017-1.778.017z\"></path></g></svg></span>开通机构号</a></div><style data-emotion-css=\"lbryw4\">.css-lbryw4{box-sizing:border-box;margin:0;min-width:0;height:20px;width:1px;background-color:#EBEBEB;}</style><div class=\"css-lbryw4\"></div><style data-emotion-css=\"eow14e\">.css-eow14e{box-sizing:border-box;margin:0;min-width:0;-webkit-flex:1;-ms-flex:1;flex:1;text-align:right;}</style><div class=\"css-eow14e\"><style data-emotion-css=\"c01qo8\">.css-c01qo8{box-sizing:border-box;margin:0;min-width:0;-webkit-appearance:none;-moz-appearance:none;appearance:none;display:inline-block;text-align:center;line-height:inherit;-webkit-text-decoration:none;text-decoration:none;font-size:inherit;padding-left:16px;padding-right:16px;padding-top:8px;padding-bottom:8px;color:white;background-color:#0084FF;border:0;border-radius:4px;font-size:16px;font-weight:600;color:#FFFFFF;background-color:#0084FF;border-radius:4px;background-color:unset;color:inherit;font-size:inherit;font-weight:inherit;padding:0;}</style><button class=\"css-c01qo8\"><span style=\"display:inline-flex;align-items:center\">​<svg width=\"20\" height=\"20\" class=\"css-vfpo4o\" fill=\"currentColor\"><g fill=\"none\" fill-rule=\"evenodd\"><path fill=\"#0084FF\" d=\"M15.234 0C18.125 0 20 1.875 20 4.766v10.468C20 18.125 18.125 20 15.234 20H4.766C1.875 20 0 18.125 0 15.234V4.766C0 1.875 1.875 0 4.766 0h10.468z\"></path><path d=\"M0 0h20v20H0z\"></path><path fill=\"#FFF\" d=\"M10.313 10.352c0-.012-.004-1.036-.328-1.055h-2.26a48.42 48.42 0 0 0 .095-3.164h2.21c0-.003.084-.982-.37-.977H5.837c.15-.563.34-1.15.566-1.758 0 0-1.039 0-1.393.937-.146.386-.57 1.87-1.325 3.388.254-.028 1.095-.05 1.59-.963.091-.255.109-.289.222-.627h1.246c0 .452-.051 2.897-.072 3.164H4.414c-.507.019-.672 1.043-.672 1.055h2.832c-.19 2.15-1.209 3.972-3.058 5.413.884.253 1.766-.04 2.202-.43 0 0 .992-.906 1.536-3.004l2.33 2.817s.342-1.166-.053-1.734c-.328-.387-1.212-1.434-1.589-1.814l-.631.504a7.686 7.686 0 0 0 .34-1.752h2.662zM10.898 5v9.441h1.015l.334 1.145 1.82-1.144h2.144V5h-5.313zm4.258 8.398h-1.214l-1.212.782-.22-.782h-.518V6.016h3.164v7.382z\"></path></g></svg></span>下载知乎 App</button></div></div></div></div><footer class=\"SignFlowHomepage-footer\"><div class=\"ZhihuLinks\"><a target=\"_blank\" rel=\"noopener noreferrer\" href=\"https://zhuanlan.zhihu.com\">知乎专栏</a><a target=\"_blank\" rel=\"noopener noreferrer\" href=\"/roundtable\">圆桌</a><a target=\"_blank\" rel=\"noopener noreferrer\" href=\"/explore\">发现</a><a target=\"_blank\" rel=\"noopener noreferrer\" href=\"/app\">移动应用</a><a target=\"_blank\" rel=\"noopener noreferrer\" href=\"/contact\">联系我们</a><a target=\"_blank\" rel=\"noopener noreferrer\" href=\"https://app.mokahr.com/apply/zhihu\">来知乎工作</a><a target=\"_blank\" rel=\"noopener noreferrer\" href=\"/org/signup\">注册机构号</a></div><div class=\"ZhihuRights\"><span>© <!-- -->2020<!-- --> 知乎</span><a target=\"_blank\" rel=\"noopener noreferrer\" href=\"https://tsm.miit.gov.cn/dxxzsp/\">京 ICP 证 110745 号</a><a target=\"_blank\" rel=\"noopener noreferrer\" href=\"http://www.beian.miit.gov.cn\">京 ICP 备 13052560 号 - 1</a><a target=\"_blank\" rel=\"noopener noreferrer\" href=\"http://www.beian.gov.cn/portal/registerSystemInfo?recordcode=11010802020088\"><img src=\"https://pic3.zhimg.com/80/v2-d0289dc0a46fc5b15b3363ffa78cf6c7.png\"/>京公网安备 11010802010035 号</a><a href=\"https://zhstatic.zhihu.com/assets/zhihu/publish-license.jpg\" target=\"_blank\" rel=\"noopener noreferrer\">出版物经营许可证</a></div><div class=\"ZhihuReports\"><a target=\"_blank\" rel=\"noopener noreferrer\" href=\"https://zhuanlan.zhihu.com/p/28852607\">侵权举报</a><a target=\"_blank\" rel=\"noopener noreferrer\" href=\"http://www.12377.cn\">网上有害信息举报专区</a><a target=\"_blank\" rel=\"noopener noreferrer\" href=\"/term/child-jubao\">儿童色情信息举报专区</a><span>违法和不良信息举报：010-82716601</span></div></footer></div></main><div data-zop-usertoken=\"{}\"></div></div></div><script nonce=\"5b380b40-15fc-4d6f-869f-7c8ce1734edc\" async=\"\" src=\"https://www.googletagmanager.com/gtag/js?id=UA-149949619-1\"></script><script nonce=\"5b380b40-15fc-4d6f-869f-7c8ce1734edc\">function gtag(){dataLayer.push(arguments)}window.dataLayer=window.dataLayer||[],gtag(\"js\",new Date),gtag(\"config\",\"UA-149949619-1\");</script><script id=\"js-clientConfig\" type=\"text/json\">{\"host\":\"zhihu.com\",\"protocol\":\"https:\",\"wwwHost\":\"www.zhihu.com\",\"fetchRoot\":{\"www\":\"https:\\u002F\\u002Fwww.zhihu.com\",\"api\":\"https:\\u002F\\u002Fapi.zhihu.com\",\"zhuanlan\":\"https:\\u002F\\u002Fzhuanlan.zhihu.com\"}}</script><script id=\"js-initialData\" type=\"text/json\">{\"initialState\":{\"common\":{\"ask\":{}},\"loading\":{\"global\":{\"count\":0},\"local\":{}},\"club\":{\"tags\":{},\"admins\":{\"data\":[]},\"members\":{\"data\":[]},\"explore\":{},\"profile\":{},\"checkin\":{},\"comments\":{\"paging\":{},\"loading\":{},\"ids\":{}},\"postList\":{\"paging\":{},\"loading\":{},\"ids\":{}},\"recommend\":{\"data\":[]},\"silences\":{\"data\":[]},\"application\":{\"profile\":null}},\"entities\":{\"users\":{},\"questions\":{},\"answers\":{},\"articles\":{},\"columns\":{},\"topics\":{},\"roundtables\":{},\"favlists\":{},\"comments\":{},\"notifications\":{},\"ebooks\":{},\"activities\":{},\"feeds\":{},\"pins\":{},\"promotions\":{},\"drafts\":{},\"chats\":{},\"posts\":{},\"clubs\":{},\"clubTags\":{}},\"currentUser\":\"\",\"account\":{\"lockLevel\":{},\"unlockTicketStatus\":false,\"unlockTicket\":null,\"challenge\":[],\"errorStatus\":false,\"message\":\"\",\"isFetching\":false,\"accountInfo\":{},\"urlToken\":{\"loading\":false}},\"settings\":{\"socialBind\":null,\"inboxMsg\":null,\"notification\":{},\"email\":{},\"privacyFlag\":null,\"blockedUsers\":{\"isFetching\":false,\"paging\":{\"pageNo\":1,\"pageSize\":6},\"data\":[]},\"blockedFollowees\":{\"isFetching\":false,\"paging\":{\"pageNo\":1,\"pageSize\":6},\"data\":[]},\"ignoredTopics\":{\"isFetching\":false,\"paging\":{\"pageNo\":1,\"pageSize\":6},\"data\":[]},\"restrictedTopics\":null,\"laboratory\":{}},\"notification\":{},\"people\":{\"profileStatus\":{},\"activitiesByUser\":{},\"answersByUser\":{},\"answersSortByVotesByUser\":{},\"answersIncludedByUser\":{},\"votedAnswersByUser\":{},\"thankedAnswersByUser\":{},\"voteAnswersByUser\":{},\"thankAnswersByUser\":{},\"topicAnswersByUser\":{},\"zvideosByUser\":{},\"articlesByUser\":{},\"articlesSortByVotesByUser\":{},\"articlesIncludedByUser\":{},\"pinsByUser\":{},\"questionsByUser\":{},\"commercialQuestionsByUser\":{},\"favlistsByUser\":{},\"followingByUser\":{},\"followersByUser\":{},\"mutualsByUser\":{},\"followingColumnsByUser\":{},\"followingQuestionsByUser\":{},\"followingFavlistsByUser\":{},\"followingTopicsByUser\":{},\"publicationsByUser\":{},\"columnsByUser\":{},\"allFavlistsByUser\":{},\"brands\":null,\"creationsByUser\":{},\"creationsSortByVotesByUser\":{},\"creationsFeed\":{},\"infinity\":{}},\"env\":{\"ab\":{\"config\":{\"experiments\":[{\"expId\":\"launch-qa_cl_guest-2\",\"expPrefix\":\"qa_cl_guest\",\"isDynamicallyUpdated\":true,\"isRuntime\":false,\"includeTriggerInfo\":false},{\"expId\":\"launch-us_foltopic_user-10\",\"expPrefix\":\"us_foltopic_user\",\"isDynamicallyUpdated\":true,\"isRuntime\":false,\"includeTriggerInfo\":false},{\"expId\":\"launch-vd_bullet_second-2\",\"expPrefix\":\"vd_bullet_second\",\"isDynamicallyUpdated\":true,\"isRuntime\":false,\"includeTriggerInfo\":false},{\"expId\":\"launch-vd_profile_video-11\",\"expPrefix\":\"vd_profile_video\",\"isDynamicallyUpdated\":true,\"isRuntime\":false,\"includeTriggerInfo\":false},{\"expId\":\"launch-vd_sharpness-3\",\"expPrefix\":\"vd_sharpness\",\"isDynamicallyUpdated\":true,\"isRuntime\":false,\"includeTriggerInfo\":false},{\"expId\":\"launch-vd_timeguide-2\",\"expPrefix\":\"vd_timeguide\",\"isDynamicallyUpdated\":true,\"isRuntime\":false,\"includeTriggerInfo\":false},{\"expId\":\"launch-vd_video_replay-3\",\"expPrefix\":\"vd_video_replay\",\"isDynamicallyUpdated\":true,\"isRuntime\":false,\"includeTriggerInfo\":false},{\"expId\":\"launch-vd_zvideo_link-10\",\"expPrefix\":\"vd_zvideo_link\",\"isDynamicallyUpdated\":true,\"isRuntime\":false,\"includeTriggerInfo\":false},{\"expId\":\"se_topicfeed-4\",\"expPrefix\":\"se_topicfeed\",\"isDynamicallyUpdated\":true,\"isRuntime\":false,\"includeTriggerInfo\":false}],\"params\":[{\"id\":\"tp_zrec\",\"type\":\"String\",\"value\":\"0\",\"chainId\":\"_all_\",\"layerId\":\"tptp_layer_619\"},{\"id\":\"top_v_album\",\"type\":\"String\",\"value\":\"1\",\"chainId\":\"_all_\",\"layerId\":\"toptop_layer_0\"},{\"id\":\"qap_question_author\",\"type\":\"String\",\"value\":\"0\",\"chainId\":\"_all_\",\"layerId\":\"qapqa_layer_2\"},{\"id\":\"qap_question_visitor\",\"type\":\"String\",\"value\":\" 0\",\"chainId\":\"_all_\",\"layerId\":\"qapqa_layer_2\"},{\"id\":\"se_usercard\",\"type\":\"String\",\"value\":\"0\",\"chainId\":\"_all_\",\"layerId\":\"sese_layer_581\"},{\"id\":\"se_merge\",\"type\":\"String\",\"value\":\"0\",\"chainId\":\"_all_\",\"layerId\":\"sese_layer_713\"},{\"id\":\"li_car_meta\",\"type\":\"String\",\"value\":\"0\",\"chainId\":\"_all_\",\"layerId\":\"lili_layer_0\"},{\"id\":\"li_topics_search\",\"type\":\"String\",\"value\":\"0\",\"chainId\":\"_all_\",\"layerId\":\"lili_layer_0\"},{\"id\":\"zr_sim3\",\"type\":\"String\",\"value\":\"0\",\"chainId\":\"_all_\",\"layerId\":\"zrrec_layer_756\"},{\"id\":\"se_auth_src\",\"type\":\"String\",\"value\":\"0\",\"chainId\":\"_all_\",\"layerId\":\"sese_layer_713\"},{\"id\":\"li_svip_cardshow\",\"type\":\"String\",\"value\":\"1\",\"chainId\":\"_all_\",\"layerId\":\"lili_layer_0\"},{\"id\":\"li_answer_card\",\"type\":\"String\",\"value\":\"0\",\"chainId\":\"_all_\",\"layerId\":\"lili_layer_3\"},{\"id\":\"se_ffzx_jushen1\",\"type\":\"String\",\"value\":\"0\",\"chainId\":\"_all_\",\"layerId\":\"sese_layer_4\"},{\"id\":\"gue_zvideo_link\",\"type\":\"String\",\"value\":\"1\",\"layerId\":\"guevd_layer_2\"},{\"id\":\"ge_infinity6\",\"type\":\"String\",\"value\":\"0\",\"chainId\":\"_gene_\",\"layerId\":\"gese_layer_742\",\"key\":2817},{\"id\":\"ge_vip_cont\",\"type\":\"String\",\"value\":\"0\",\"chainId\":\"_gene_\",\"layerId\":\"gese_layer_742\",\"key\":2828},{\"id\":\"se_recommend\",\"type\":\"String\",\"value\":\"0\",\"chainId\":\"_all_\",\"layerId\":\"sese_layer_623\"},{\"id\":\"web_table\",\"type\":\"String\",\"value\":\"0\",\"layerId\":\"webqa_layer_862\"},{\"id\":\"ge_ge02\",\"type\":\"String\",\"value\":\"6\",\"chainId\":\"_gene_\",\"layerId\":\"gese_layer_742\",\"key\":2599},{\"id\":\"ge_usercard1\",\"type\":\"String\",\"value\":\"0\",\"chainId\":\"_gene_\",\"layerId\":\"gese_layer_742\",\"key\":2740},{\"id\":\"ge_v060\",\"type\":\"String\",\"value\":\"0\",\"chainId\":\"_gene_\",\"layerId\":\"gese_layer_858\",\"key\":2782},{\"id\":\"se_topicfeed\",\"type\":\"String\",\"value\":\"1\",\"chainId\":\"_all_\",\"layerId\":\"sese_layer_12\"},{\"id\":\"li_viptab_name\",\"type\":\"String\",\"value\":\"0\",\"chainId\":\"_all_\",\"layerId\":\"lili_layer_0\"},{\"id\":\"web_unfriendly_comm\",\"type\":\"String\",\"value\":\"0\",\"layerId\":\"webre_layer_1\"},{\"id\":\"zr_km_answer\",\"type\":\"String\",\"value\":\"open_cvr\",\"chainId\":\"_all_\",\"layerId\":\"zrrec_layer_1\"},{\"id\":\"tp_discover\",\"type\":\"String\",\"value\":\"0\",\"chainId\":\"_all_\",\"layerId\":\"tptp_layer_3\"},{\"id\":\"li_video_section\",\"type\":\"String\",\"value\":\"0\",\"chainId\":\"_all_\",\"layerId\":\"lili_layer_7\"},{\"id\":\"gue_card_test\",\"type\":\"String\",\"value\":\"1\",\"layerId\":\"gueqa_layer_2\"},{\"id\":\"gue_push2follow\",\"type\":\"String\",\"value\":\"1\",\"layerId\":\"gueqa_layer_3\"},{\"id\":\"zr_topic_rpc\",\"type\":\"String\",\"value\":\"0\",\"chainId\":\"_all_\",\"layerId\":\"zrrec_layer_13\"},{\"id\":\"gue_video_guide\",\"type\":\"String\",\"value\":\"1\",\"layerId\":\"guevd_layer_625\"},{\"id\":\"web_heifetz_grow_ad\",\"type\":\"String\",\"value\":\"1\",\"layerId\":\"webgw_layer_3\"},{\"id\":\"li_sp_mqbk\",\"type\":\"String\",\"value\":\"0\",\"chainId\":\"_all_\",\"layerId\":\"lili_layer_580\"},{\"id\":\"gue_video_replay\",\"type\":\"String\",\"value\":\"2\",\"layerId\":\"guevd_layer_3\"},{\"id\":\"gue_bulletmb\",\"type\":\"String\",\"value\":\"0\",\"layerId\":\"guevd_layer_812\"},{\"id\":\"ls_recommend_test\",\"type\":\"String\",\"value\":\"0\",\"chainId\":\"_all_\",\"layerId\":\"lsvd_layer_1\"},{\"id\":\"gue_repost\",\"type\":\"String\",\"value\":\"0\",\"layerId\":\"gueqa_layer_671\"},{\"id\":\"ge_rm_d2q\",\"type\":\"String\",\"value\":\"0\",\"chainId\":\"_gene_\",\"layerId\":\"gese_layer_859\",\"key\":2834},{\"id\":\"tp_meta_card\",\"type\":\"String\",\"value\":\"0\",\"chainId\":\"_all_\",\"layerId\":\"tptp_layer_1\"},{\"id\":\"pf_adjust\",\"type\":\"String\",\"value\":\"0\",\"chainId\":\"_all_\",\"layerId\":\"pfus_layer_9\"},{\"id\":\"zr_slot_training\",\"type\":\"String\",\"value\":\"1\",\"chainId\":\"_all_\",\"layerId\":\"zrrec_layer_1\"},{\"id\":\"ge_v_v010\",\"type\":\"String\",\"value\":\"0\",\"chainId\":\"_gene_\",\"layerId\":\"gese_layer_838\",\"key\":2787},{\"id\":\"ge_social_v2\",\"type\":\"String\",\"value\":\"0\",\"chainId\":\"_gene_\",\"layerId\":\"gese_layer_815\",\"key\":2795},{\"id\":\"gue_fo_recom\",\"type\":\"String\",\"value\":\"0\",\"layerId\":\"gueqa_layer_780\"},{\"id\":\"ge_ge01\",\"type\":\"String\",\"value\":\"5\",\"chainId\":\"_gene_\",\"layerId\":\"gese_layer_742\",\"key\":2597},{\"id\":\"se_whitelist\",\"type\":\"String\",\"value\":\"0\",\"chainId\":\"_all_\",\"layerId\":\"sese_layer_2\"},{\"id\":\"se_searchwiki\",\"type\":\"String\",\"value\":\"0\",\"chainId\":\"_all_\",\"layerId\":\"sese_layer_599\"},{\"id\":\"tp_fenqu_wei\",\"type\":\"String\",\"value\":\"0\",\"chainId\":\"_all_\",\"layerId\":\"tptp_layer_626\"},{\"id\":\"web_pcleft\",\"type\":\"String\",\"value\":\"0\",\"layerId\":\"webtop_layer_701\"},{\"id\":\"pf_newguide_vertical\",\"type\":\"String\",\"value\":\"0\",\"chainId\":\"_all_\",\"layerId\":\"pfus_layer_4\"},{\"id\":\"web_login\",\"type\":\"String\",\"value\":\"0\",\"layerId\":\"webgw_layer_759\"},{\"id\":\"li_catalog_card\",\"type\":\"String\",\"value\":\"1\",\"chainId\":\"_all_\",\"layerId\":\"lili_layer_11\"},{\"id\":\"gue_repost1\",\"type\":\"String\",\"value\":\"1\",\"layerId\":\"guere_layer_819\"},{\"id\":\"tp_dingyue_video\",\"type\":\"String\",\"value\":\"0\",\"chainId\":\"_all_\",\"layerId\":\"tptp_layer_4\"},{\"id\":\"gue_goods_card\",\"type\":\"String\",\"value\":\"0\",\"layerId\":\"gueqa_layer_1\"},{\"id\":\"gue_article_sicon\",\"type\":\"String\",\"value\":\"0\",\"layerId\":\"gueqa_layer_647\"},{\"id\":\"gue_vid_tab\",\"type\":\"String\",\"value\":\"0\",\"layerId\":\"guevd_layer_810\"},{\"id\":\"ge_video\",\"type\":\"String\",\"value\":\"0\",\"chainId\":\"_gene_\",\"layerId\":\"geli_layer_856\",\"key\":2831},{\"id\":\"li_pl_xj\",\"type\":\"String\",\"value\":\"0\",\"chainId\":\"_all_\",\"layerId\":\"lili_layer_580\"},{\"id\":\"top_ebook\",\"type\":\"String\",\"value\":\"0\",\"chainId\":\"_all_\",\"layerId\":\"toptop_layer_1\"},{\"id\":\"gue_bullet_second\",\"type\":\"String\",\"value\":\"1\",\"layerId\":\"guevd_layer_1\"},{\"id\":\"ge_cbert\",\"type\":\"String\",\"value\":\"0\",\"chainId\":\"_gene_\",\"layerId\":\"gese_layer_834\",\"key\":2715},{\"id\":\"se_sug_term\",\"type\":\"String\",\"value\":\"0\",\"chainId\":\"_all_\",\"layerId\":\"sese_layer_9\"},{\"id\":\"tp_header_style\",\"type\":\"String\",\"value\":\"1\",\"chainId\":\"_all_\",\"layerId\":\"tptp_layer_2\"},{\"id\":\"tp_topic_tab_new\",\"type\":\"String\",\"value\":\"0-0-0\",\"chainId\":\"_all_\",\"layerId\":\"tptp_layer_3\"},{\"id\":\"pf_foltopic_usernum\",\"type\":\"String\",\"value\":\"50\",\"chainId\":\"_all_\",\"layerId\":\"pfus_layer_5\"},{\"id\":\"gue_sharp\",\"type\":\"String\",\"value\":\"1\",\"layerId\":\"guevd_layer_686\"},{\"id\":\"gue_v_serial\",\"type\":\"String\",\"value\":\"1\",\"layerId\":\"guevd_layer_695\"},{\"id\":\"gue_self_censoring\",\"type\":\"String\",\"value\":\"1\",\"layerId\":\"gueqa_layer_1\"},{\"id\":\"zr_intervene\",\"type\":\"String\",\"value\":\"0\",\"chainId\":\"_all_\",\"layerId\":\"zrrec_layer_2\"},{\"id\":\"gue_art_sani\",\"type\":\"String\",\"value\":\"0\",\"layerId\":\"gueqa_layer_647\"},{\"id\":\"web_column_auto_invite\",\"type\":\"String\",\"value\":\"0\",\"layerId\":\"webqa_layer_1\"},{\"id\":\"se_hi_trunc\",\"type\":\"String\",\"value\":\"0\",\"chainId\":\"_all_\",\"layerId\":\"sese_layer_606\"},{\"id\":\"top_root\",\"type\":\"String\",\"value\":\"0\",\"chainId\":\"_all_\",\"layerId\":\"toptop_layer_1\"},{\"id\":\"li_yxzl_new_style_a\",\"type\":\"String\",\"value\":\"1\",\"chainId\":\"_all_\",\"layerId\":\"lili_layer_607\"},{\"id\":\"gue_visit_n_artcard\",\"type\":\"String\",\"value\":\"1\",\"layerId\":\"gueqa_layer_579\"},{\"id\":\"soc_notification\",\"type\":\"String\",\"value\":\"1\",\"chainId\":\"_all_\",\"layerId\":\"socus_layer_4\"},{\"id\":\"gue_zvideo_title\",\"type\":\"String\",\"value\":\"0\",\"layerId\":\"guevd_layer_559\"},{\"id\":\"tp_sft\",\"type\":\"String\",\"value\":\"a\",\"chainId\":\"_all_\",\"layerId\":\"tptp_layer_1\"},{\"id\":\"tp_m_intro_re_topic\",\"type\":\"String\",\"value\":\"1\",\"chainId\":\"_all_\",\"layerId\":\"tptp_layer_2\"},{\"id\":\"zr_expslotpaid\",\"type\":\"String\",\"value\":\"1\",\"chainId\":\"_all_\",\"layerId\":\"zrrec_layer_11\"},{\"id\":\"se_auth_src2\",\"type\":\"String\",\"value\":\"0\",\"chainId\":\"_all_\",\"layerId\":\"sese_layer_713\"},{\"id\":\"pf_fuceng\",\"type\":\"String\",\"value\":\"1\",\"chainId\":\"_all_\",\"layerId\":\"pfus_layer_2\"},{\"id\":\"ug_newtag\",\"type\":\"String\",\"value\":\"1\",\"chainId\":\"_all_\",\"layerId\":\"ugus_layer_4\"},{\"id\":\"web_sem_ab\",\"type\":\"String\",\"value\":\"1\",\"layerId\":\"webgw_layer_3\"},{\"id\":\"qap_labeltype\",\"type\":\"String\",\"value\":\"1\",\"chainId\":\"_all_\",\"layerId\":\"qapqa_layer_1\"},{\"id\":\"zr_rec_answer_cp\",\"type\":\"String\",\"value\":\"open\",\"chainId\":\"_all_\",\"layerId\":\"zrrec_layer_2\"},{\"id\":\"top_test_4_liguangyi\",\"type\":\"String\",\"value\":\"1\",\"chainId\":\"_all_\",\"layerId\":\"iosus_layer_1\"},{\"id\":\"li_vip_verti_search\",\"type\":\"String\",\"value\":\"0\",\"chainId\":\"_all_\",\"layerId\":\"lili_layer_2\"},{\"id\":\"gue_q_intercept\",\"type\":\"String\",\"value\":\"0\",\"layerId\":\"gueqa_layer_2\"},{\"id\":\"tp_topic_tab\",\"type\":\"String\",\"value\":\"0\",\"chainId\":\"_all_\",\"layerId\":\"tptp_layer_1\"},{\"id\":\"web_creator_route\",\"type\":\"String\",\"value\":\"1\",\"layerId\":\"webtop_layer_1\"},{\"id\":\"ls_video_commercial\",\"type\":\"String\",\"value\":\"0\",\"chainId\":\"_all_\",\"layerId\":\"lsvd_layer_7\"},{\"id\":\"zw_sameq_sorce\",\"type\":\"String\",\"value\":\"999\",\"chainId\":\"_all_\",\"layerId\":\"zwqa_layer_2\"},{\"id\":\"se_entity22\",\"type\":\"String\",\"value\":\"0\",\"chainId\":\"_all_\",\"layerId\":\"sese_layer_26\"},{\"id\":\"ge_tab\",\"type\":\"String\",\"value\":\"1\",\"chainId\":\"_gene_\",\"layerId\":\"gese_layer_742\",\"key\":2716},{\"id\":\"se_colorfultab\",\"type\":\"String\",\"value\":\"1\",\"chainId\":\"_all_\",\"layerId\":\"sese_layer_2\"},{\"id\":\"se_club_ui\",\"type\":\"String\",\"value\":\"0\",\"chainId\":\"_all_\",\"layerId\":\"sese_layer_581\"},{\"id\":\"pf_noti_entry_num\",\"type\":\"String\",\"value\":\"0\",\"chainId\":\"_all_\",\"layerId\":\"pfus_layer_718\"},{\"id\":\"gue_profile_video\",\"type\":\"String\",\"value\":\"1\",\"layerId\":\"guevd_layer_5\"},{\"id\":\"web_collection_guest\",\"type\":\"String\",\"value\":\"1\",\"layerId\":\"webqa_layer_4\"},{\"id\":\"zr_search_paid\",\"type\":\"String\",\"value\":\"1\",\"chainId\":\"_all_\",\"layerId\":\"zrrec_layer_10\"},{\"id\":\"tp_clubhyb\",\"type\":\"String\",\"value\":\"0\",\"chainId\":\"_all_\",\"layerId\":\"tptp_layer_619\"},{\"id\":\"gue_cdzixun\",\"type\":\"String\",\"value\":\"0\",\"layerId\":\"gueqa_layer_3\"},{\"id\":\"tp_topic_style\",\"type\":\"String\",\"value\":\"0\",\"chainId\":\"_all_\",\"layerId\":\"tptp_layer_4\"},{\"id\":\"li_panswer_topic\",\"type\":\"String\",\"value\":\"0\",\"chainId\":\"_all_\",\"layerId\":\"lili_layer_602\"},{\"id\":\"web_answer_list_ad\",\"type\":\"String\",\"value\":\"1\",\"layerId\":\"webqa_layer_4\"},{\"id\":\"zr_slotpaidexp\",\"type\":\"String\",\"value\":\"1\",\"chainId\":\"_all_\",\"layerId\":\"zrrec_layer_5\"},{\"id\":\"web_enforce_qr\",\"type\":\"String\",\"value\":\"0\",\"layerId\":\"webgw_layer_1\"},{\"id\":\"li_svip_tab_search\",\"type\":\"String\",\"value\":\"1\",\"chainId\":\"_all_\",\"layerId\":\"lili_layer_1\"},{\"id\":\"gue_q_share\",\"type\":\"String\",\"value\":\"0\",\"layerId\":\"gueqa_layer_647\"},{\"id\":\"se_return_1\",\"type\":\"String\",\"value\":\"0\",\"chainId\":\"_all_\",\"layerId\":\"sese_layer_624\"},{\"id\":\"zr_training_first\",\"type\":\"String\",\"value\":\"false\",\"chainId\":\"_all_\",\"layerId\":\"zrrec_layer_4\"},{\"id\":\"web_audit_01\",\"type\":\"String\",\"value\":\"case1\",\"layerId\":\"webre_layer_1\"},{\"id\":\"ge_major_v3\",\"type\":\"String\",\"value\":\"0\",\"chainId\":\"_gene_\",\"layerId\":\"gese_layer_859\",\"key\":2832},{\"id\":\"ge_club_pin\",\"type\":\"String\",\"value\":\"0\",\"chainId\":\"_gene_\",\"layerId\":\"getp_layer_827\",\"key\":2775},{\"id\":\"web_ad_banner\",\"type\":\"String\",\"value\":\"0\",\"layerId\":\"webgw_layer_3\"},{\"id\":\"zr_training_boost\",\"type\":\"String\",\"value\":\"false\",\"chainId\":\"_all_\",\"layerId\":\"zrrec_layer_10\"},{\"id\":\"se_adsrank\",\"type\":\"String\",\"value\":\"4\",\"chainId\":\"_all_\",\"layerId\":\"sese_layer_39\"},{\"id\":\"top_universalebook\",\"type\":\"String\",\"value\":\"1\",\"chainId\":\"_all_\",\"layerId\":\"toptop_layer_13\"},{\"id\":\"li_ebook_gen_search\",\"type\":\"String\",\"value\":\"0\",\"chainId\":\"_all_\",\"layerId\":\"lili_layer_10\"},{\"id\":\"web_answerlist_ad\",\"type\":\"String\",\"value\":\"0\",\"layerId\":\"webqa_layer_1\"},{\"id\":\"tp_contents\",\"type\":\"String\",\"value\":\"2\",\"chainId\":\"_all_\",\"layerId\":\"tptp_layer_627\"},{\"id\":\"gue_bullet_guide\",\"type\":\"String\",\"value\":\"发个弹幕聊聊…\",\"layerId\":\"guevd_layer_0\"},{\"id\":\"ge_relation2\",\"type\":\"String\",\"value\":\"0\",\"chainId\":\"_gene_\",\"layerId\":\"gese_layer_858\",\"key\":2796},{\"id\":\"tp_flow_ctr\",\"type\":\"String\",\"value\":\"1\",\"chainId\":\"_all_\",\"layerId\":\"tptp_layer_619\"},{\"id\":\"pf_profile2_tab\",\"type\":\"String\",\"value\":\"0\",\"chainId\":\"_all_\",\"layerId\":\"pfus_layer_601\"},{\"id\":\"gue_recmess\",\"type\":\"String\",\"value\":\"0\",\"layerId\":\"gueqa_layer_795\"},{\"id\":\"se_college\",\"type\":\"String\",\"value\":\"default\",\"chainId\":\"_all_\",\"layerId\":\"sese_layer_2\"},{\"id\":\"gue_share_icon\",\"type\":\"String\",\"value\":\"0\",\"layerId\":\"gueqa_layer_647\"},{\"id\":\"se_guess\",\"type\":\"String\",\"value\":\"0\",\"chainId\":\"_all_\",\"layerId\":\"sese_layer_623\"},{\"id\":\"ge_qngz1\",\"type\":\"String\",\"value\":\"0\",\"chainId\":\"_gene_\",\"layerId\":\"getp_layer_827\",\"key\":2797},{\"id\":\"ge_newyanzhi\",\"type\":\"String\",\"value\":\"0\",\"chainId\":\"_gene_\",\"layerId\":\"geus_layer_839\",\"key\":2788},{\"id\":\"li_paid_answer_exp\",\"type\":\"String\",\"value\":\"0\",\"chainId\":\"_all_\",\"layerId\":\"lili_layer_3\"},{\"id\":\"li_edu_page\",\"type\":\"String\",\"value\":\"old\",\"chainId\":\"_all_\",\"layerId\":\"lili_layer_580\"},{\"id\":\"se_col_boost\",\"type\":\"String\",\"value\":\"0\",\"chainId\":\"_all_\",\"layerId\":\"sese_layer_11\"},{\"id\":\"top_quality\",\"type\":\"String\",\"value\":\"0\",\"chainId\":\"_all_\",\"layerId\":\"toptop_layer_0\"},{\"id\":\"tsp_hotlist_ui\",\"type\":\"String\",\"value\":\"1\",\"chainId\":\"_all_\",\"layerId\":\"tsptop_layer_1\"},{\"id\":\"pf_creator_card\",\"type\":\"String\",\"value\":\"1\",\"chainId\":\"_all_\",\"layerId\":\"pfus_layer_1\"},{\"id\":\"ug_follow_topic_1\",\"type\":\"String\",\"value\":\"2\",\"chainId\":\"_all_\",\"layerId\":\"ugus_layer_3\"},{\"id\":\"gue_art2qa\",\"type\":\"String\",\"value\":\"0\",\"layerId\":\"gueqa_layer_579\"},{\"id\":\"ge_v059\",\"type\":\"String\",\"value\":\"0\",\"chainId\":\"_gene_\",\"layerId\":\"gese_layer_858\",\"key\":2791}],\"chains\":[{\"chainId\":\"_all_\"}],\"encodedParams\":\"CiQBCwwLJwq0Ct4KEgvjCusKJQoPC5sKnAoQC9cK7ArtCuQK5woSEgAABgAAAAAABQAAAQAAAAAAAA==\"},\"triggers\":{}},\"userAgent\":{\"Edge\":false,\"Wechat\":false,\"Weibo\":false,\"QQ\":false,\"MQQBrowser\":false,\"Qzone\":false,\"Mobile\":false,\"Android\":false,\"iOS\":false,\"isAppleDevice\":true,\"Zhihu\":false,\"ZhihuHybrid\":false,\"isBot\":false,\"Tablet\":false,\"UC\":false,\"Sogou\":false,\"Qihoo\":false,\"Baidu\":false,\"BaiduApp\":false,\"Safari\":false,\"GoogleBot\":false,\"AndroidDaily\":false,\"iOSDaily\":false,\"WxMiniProgram\":false,\"BaiduMiniProgram\":false,\"QQMiniProgram\":false,\"JDMiniProgram\":false,\"isWebView\":false,\"isMiniProgram\":false,\"origin\":\"Mozilla\\u002F5.0 (Macintosh; Intel Mac OS X 10_15_4) AppleWebKit\\u002F537.36 (KHTML, like Gecko) Chrome\\u002F84.0.4147.135 Safari\\u002F537.36\"},\"appViewConfig\":{},\"ctx\":{\"path\":\"\\u002Fsignin\",\"query\":{\"next\":\"\\u002F\"},\"href\":\"http:\\u002F\\u002Fwww.zhihu.com\\u002Fsignin?next=%2F\",\"host\":\"www.zhihu.com\"},\"trafficSource\":\"production\",\"edition\":{\"beijing\":false,\"baidu\":false,\"sogou\":false,\"baiduBeijing\":false,\"sogouBeijing\":false,\"sogouInput\":false,\"baiduSearch\":false,\"googleSearch\":false,\"miniProgram\":false,\"xiaomi\":false},\"theme\":\"light\",\"enableShortcut\":true,\"referer\":\"\",\"conf\":{},\"xTrafficFreeOrigin\":\"\",\"ipInfo\":{},\"logged\":false},\"me\":{\"columnContributions\":[]},\"label\":{\"recognizerLists\":{}},\"ecommerce\":{},\"comments\":{\"pagination\":{},\"collapsed\":{},\"reverse\":{},\"reviewing\":{},\"conversation\":{},\"parent\":{}},\"commentsV2\":{\"stickers\":[],\"commentWithPicPermission\":{},\"notificationsComments\":{},\"pagination\":{},\"collapsed\":{},\"reverse\":{},\"reviewing\":{},\"conversation\":{},\"conversationMore\":{},\"parent\":{}},\"pushNotifications\":{\"default\":{\"isFetching\":false,\"isDrained\":false,\"ids\":[]},\"follow\":{\"isFetching\":false,\"isDrained\":false,\"ids\":[]},\"vote_thank\":{\"isFetching\":false,\"isDrained\":false,\"ids\":[]},\"currentTab\":\"default\",\"notificationsCount\":{\"default\":0,\"follow\":0,\"vote_thank\":0}},\"messages\":{\"data\":{},\"currentTab\":\"common\",\"messageCount\":0},\"register\":{\"registerValidateSucceeded\":null,\"registerValidateErrors\":{},\"registerConfirmError\":null,\"sendDigitsError\":null,\"registerConfirmSucceeded\":null},\"login\":{\"loginUnregisteredError\":false,\"loginBindWechatError\":false,\"loginConfirmError\":null,\"sendDigitsError\":null,\"needSMSIdentify\":false,\"validateDigitsError\":false,\"loginConfirmSucceeded\":null,\"qrcodeLoginToken\":\"\",\"qrcodeLoginScanStatus\":0,\"qrcodeLoginError\":null,\"qrcodeLoginReturnNewToken\":false},\"active\":{\"sendDigitsError\":null,\"activeConfirmSucceeded\":null,\"activeConfirmError\":null},\"switches\":{},\"captcha\":{\"captchaNeeded\":false,\"captchaValidated\":false,\"captchaBase64String\":null,\"captchaValidationMessage\":null,\"loginCaptchaExpires\":false},\"sms\":{\"supportedCountries\":[]},\"chat\":{\"chats\":{},\"inbox\":{\"recents\":{\"isFetching\":false,\"isDrained\":false,\"isPrevDrained\":false,\"result\":[],\"next\":null,\"key\":null},\"strangers\":{\"isFetching\":false,\"isDrained\":false,\"isPrevDrained\":false,\"result\":[],\"next\":null,\"key\":null},\"friends\":{\"isFetching\":false,\"isDrained\":false,\"isPrevDrained\":false,\"result\":[],\"next\":null,\"key\":null},\"search\":{\"isFetching\":false,\"isDrained\":false,\"isPrevDrained\":false,\"result\":[],\"next\":null,\"key\":null},\"config\":{\"newCount\":0,\"strangerMessageSwitch\":false,\"strangerMessageUnread\":false,\"friendCount\":0}},\"global\":{\"isChatMqttExisted\":false}},\"emoticons\":{\"emoticonGroupList\":[],\"emoticonGroupDetail\":{}},\"creator\":{\"currentCreatorUrlToken\":null,\"homeData\":{\"recommendQuestions\":[]},\"tools\":{\"question\":{\"invitationCount\":{\"questionFolloweeCount\":0,\"questionTotalCount\":0},\"goodatTopics\":[]},\"customPromotion\":{\"itemLists\":{}},\"recommend\":{\"recommendTimes\":{}}},\"explore\":{\"academy\":{\"tabs\":[],\"article\":{}}},\"rights\":[],\"rightsStatus\":{},\"levelUpperLimit\":10,\"account\":{\"growthLevel\":{}},\"mcn\":{},\"applyStatus\":{}},\"question\":{\"followers\":{},\"concernedFollowers\":{},\"answers\":{},\"hiddenAnswers\":{},\"updatedAnswers\":{},\"collapsedAnswers\":{},\"notificationAnswers\":{},\"invitedQuestions\":{\"total\":{\"count\":null,\"isEnd\":false,\"isLoading\":false,\"questions\":[]},\"followees\":{\"count\":null,\"isEnd\":false,\"isLoading\":false,\"questions\":[]}},\"laterQuestions\":{\"count\":null,\"globalWriteAnimate\":false,\"isEnd\":false,\"isLoading\":false,\"questions\":[]},\"waitingQuestions\":{\"recommend\":{\"isEnd\":false,\"isLoading\":false,\"questions\":[]},\"hot\":{\"isEnd\":false,\"isLoading\":false,\"questions\":[]},\"newest\":{\"isEnd\":false,\"isLoading\":false,\"questions\":[]},\"invite\":{\"isEnd\":false,\"isLoading\":false,\"questions\":[]}},\"invitationCandidates\":{},\"inviters\":{},\"invitees\":{},\"similarQuestions\":{},\"relatedCommodities\":{},\"bio\":{},\"brand\":{},\"permission\":{},\"adverts\":{},\"advancedStyle\":{},\"commonAnswerCount\":0,\"hiddenAnswerCount\":0,\"meta\":{},\"bluestarRanklist\":{},\"relatedSearch\":{},\"autoInvitation\":{},\"simpleConcernedFollowers\":{},\"draftStatus\":{},\"disclaimers\":{}},\"shareTexts\":{},\"answers\":{\"voters\":{},\"copyrightApplicants\":{},\"favlists\":{},\"newAnswer\":{},\"concernedUpvoters\":{},\"simpleConcernedUpvoters\":{},\"paidContent\":{},\"settings\":{}},\"banner\":{},\"topic\":{\"bios\":{},\"hot\":{},\"newest\":{},\"top\":{},\"unanswered\":{},\"questions\":{},\"followers\":{},\"contributors\":{},\"parent\":{},\"children\":{},\"bestAnswerers\":{},\"wikiMeta\":{},\"index\":{},\"intro\":{},\"meta\":{},\"schema\":{},\"creatorWall\":{},\"wikiEditInfo\":{},\"committedWiki\":{},\"landingBasicData\":{},\"landingExcellentItems\":[],\"landingExcellentEditors\":[],\"landingCatalog\":[],\"landingEntries\":{}},\"explore\":{\"recommendations\":{},\"specials\":{\"entities\":{},\"order\":[]},\"roundtables\":{\"entities\":{},\"order\":[]},\"collections\":{},\"columns\":{}},\"articles\":{\"voters\":{}},\"favlists\":{\"relations\":{}},\"pins\":{\"reviewing\":{}},\"topstory\":{\"recommend\":{\"isFetching\":false,\"isDrained\":false,\"afterId\":0,\"items\":[],\"next\":null},\"follow\":{\"isFetching\":false,\"isDrained\":false,\"afterId\":0,\"items\":[],\"next\":null},\"followWonderful\":{\"isFetching\":false,\"isDrained\":false,\"afterId\":0,\"items\":[],\"next\":null},\"sidebar\":null,\"announcement\":{},\"hotListCategories\":[],\"hotList\":[],\"guestFeeds\":{\"isFetching\":false,\"isDrained\":false,\"afterId\":0,\"items\":[],\"next\":null},\"followExtra\":{\"isNewUser\":null,\"isFetched\":false,\"followCount\":0,\"followers\":[]}},\"upload\":{},\"video\":{\"data\":{},\"shareVideoDetail\":{},\"last\":{}},\"zvideos\":{\"campaigns\":{},\"tagoreCategory\":[],\"recommendations\":{},\"insertable\":{},\"recruit\":{\"form\":{\"platform\":\"\",\"nickname\":\"\",\"followerCount\":\"\",\"domain\":\"\",\"contact\":\"\"},\"submited\":false,\"ranking\":[]}},\"guide\":{\"guide\":{\"isFetching\":false,\"isShowGuide\":false}},\"reward\":{\"answer\":{},\"article\":{},\"question\":{}},\"search\":{\"recommendSearch\":[],\"topSearch\":{},\"searchValue\":{},\"suggestSearch\":{},\"attachedInfo\":{},\"nextOffset\":{},\"topicReview\":{},\"generalByQuery\":{},\"generalByQueryInADay\":{},\"generalByQueryInAWeek\":{},\"generalByQueryInThreeMonths\":{},\"peopleByQuery\":{},\"clubentityByQuery\":{},\"clubPostByQuery\":{},\"topicByQuery\":{},\"columnByQuery\":{},\"liveByQuery\":{},\"albumByQuery\":{},\"eBookByQuery\":{},\"kmGeneralByQuery\":{}},\"publicEditPermission\":{},\"readStatus\":{},\"draftHistory\":{\"history\":{},\"drafts\":{}},\"notifications\":{\"recent\":{\"isFetching\":false,\"isDrained\":false,\"isPrevDrained\":false,\"result\":[],\"next\":null,\"key\":null},\"history\":{\"isFetching\":false,\"isDrained\":false,\"isPrevDrained\":false,\"result\":[],\"next\":null,\"key\":null},\"notificationActors\":{\"isFetching\":false,\"isDrained\":false,\"isPrevDrained\":false,\"result\":[],\"next\":null,\"key\":null},\"recentNotificationEntry\":\"all\"},\"specials\":{\"entities\":{},\"all\":{\"data\":[],\"paging\":{},\"isLoading\":false}},\"collections\":{\"hot\":{\"data\":[],\"paging\":{},\"isLoading\":false},\"collectionFeeds\":{}},\"userProfit\":{\"permission\":{\"permissionStatus\":{\"zhiZixuan\":0,\"recommend\":0,\"task\":0,\"plugin\":0},\"visible\":false}},\"mcn\":{\"bindInfo\":{},\"memberCategoryList\":[],\"producerList\":[],\"categoryList\":[],\"lists\":{}},\"mcnActivity\":{\"household\":{\"products\":{},\"rankList\":{\"total\":{},\"yesterday\":{}}}},\"brand\":{\"contentPlugin\":{}},\"metaLink\":{\"metaLinkTemplate\":{}},\"host\":{\"roundtable\":{\"subjects\":{},\"applications\":{\"total\":0},\"online\":{\"total\":0},\"applies\":{},\"details\":{},\"includedResource\":{},\"hotQuestions\":{},\"warmupContents\":{},\"batchInclude\":{}},\"special\":{\"applications\":{\"total\":0,\"pages\":{},\"entities\":{}},\"censorHistory\":{},\"drafts\":{}}},\"campaign\":{\"single\":{},\"list\":{}},\"knowledgePlan\":{\"lists\":{},\"allCreationRankList\":{},\"featuredQuestions\":{}},\"wallE\":{\"protectHistory\":{\"total\":0,\"pages\":{},\"entities\":{}}},\"roundtables\":{\"hotQuestions\":{},\"warmupContents\":{},\"hotDiscussions\":{},\"selectedContents\":{},\"roundtables\":{}},\"helpCenter\":{\"entities\":{\"question\":{},\"category\":{}},\"categories\":[],\"commonQuestions\":[],\"relatedQuestions\":{}},\"republish\":{}},\"subAppName\":\"main\"}</script><script src=\"https://static.zhihu.com/heifetz/vendor.caa1c8048e4304e7b5ca.js\"></script><script src=\"https://static.zhihu.com/heifetz/main.app.fe4f0d563e2d93f9e051.js\"></script><script src=\"https://static.zhihu.com/heifetz/main.sign-page.12f9810a10f42a02a2c8.js\"></script></body><script src=\"https://hm.baidu.com/hm.js?98beee57fd2ef70ccdd5ca52b9740c49\" async=\"\"></script><script src=\"https://zz.bdstatic.com/linksubmit/push.js\" async=\"\"></script></html>\n",
      "{'user-agent': 'Mozilla/5.0 (Macintosh; Intel Mac OS X 10_15_4) AppleWebKit/537.36 (KHTML, like Gecko) Chrome/84.0.4147.135 Safari/537.36', 'Accept-Encoding': 'gzip, deflate', 'Accept': '*/*', 'Connection': 'keep-alive'}\n"
     ]
    }
   ],
   "source": [
    "import requests\n",
    "\n",
    "headers = {\"user-agent\": \"Mozilla/5.0 (Macintosh; Intel Mac OS X 10_15_4) AppleWebKit/537.36 (KHTML, like Gecko) Chrome/84.0.4147.135 Safari/537.36\"}\n",
    "\n",
    "resp = requests.get(\"https://www.zhihu.com/signin?next=%2F\", headers=headers)\n",
    "print(resp.status_code)\n",
    "print(resp.content.decode('utf-8'))\n",
    "print(resp.request.headers)\n"
   ]
  },
  {
   "cell_type": "markdown",
   "metadata": {},
   "source": [
    "### lxml"
   ]
  },
  {
   "cell_type": "code",
   "execution_count": 21,
   "metadata": {
    "ExecuteTime": {
     "end_time": "2020-06-13T05:28:51.923704Z",
     "start_time": "2020-06-13T05:28:51.738017Z"
    },
    "scrolled": true
   },
   "outputs": [
    {
     "name": "stdout",
     "output_type": "stream",
     "text": [
      "/bin/sh: pip: command not found\r\n"
     ]
    }
   ],
   "source": [
    "!pip install lxml"
   ]
  },
  {
   "cell_type": "code",
   "execution_count": 206,
   "metadata": {
    "ExecuteTime": {
     "end_time": "2020-08-25T07:46:37.337580Z",
     "start_time": "2020-08-25T07:46:36.431343Z"
    },
    "collapsed": true
   },
   "outputs": [
    {
     "name": "stdout",
     "output_type": "stream",
     "text": [
      "['/renshenggeyan/31110.html', '/renshenggeyan/30077.html', '/renshenggeyan/30073.html', '/renshenggeyan/30071.html', '/renshenggeyan/30068.html', '/renshenggeyan/30067.html', '/renshenggeyan/208861.html', '/renshenggeyan/208827.html', '/renshenggeyan/208835.html', '/renshenggeyan/208548.html']\n",
      "['  \\r\\n', '\\r\\n', '手机访问本页：请用手机扫描下方二维码（微信、QQ等都可以扫描）\\r\\n', '\\r\\n', '4.因为生活简单，我多了聆听松涛、景观风雨、仰望星空、敞开心扉的机会，灵性俱足。千万不要错欣赏大自然、享受大自然的机会，人一辈子不容易，一定要好好享受生活。\\r\\n', '5.不喜欢的人少接触，但别在背后说坏话，说是非之人，必定是是非之人，谨记，祸从口出。\\r\\n', '6.在我们成长的青春里，总会遇见优秀得耀眼的人。我们不停追赶却总是匍匐在他们的影子里，那些自卑和敏感让我们学会努力，当我们也渐渐优秀时，才发现是他们指引了我们的青春。\\r\\n', '7.希望永在前方，痴痴的前行，不回头，不观望，哪怕一个人在孤独的路上，也会心的一笑，温柔而宽厚的模样。\\r\\n', '8.对年轻人来说，很多时候，', '人生', '的伤害是必须的。年轻就是碰壁的过程，碰壁多了，就可以领悟很多，形成自己真正的知识系统，这是书本和别人的经验教不会的。生活不是童话故事，不可能没有伤害。\\r\\n', '9.有人说，对于不开心忘记就好，可忘记，是忘，还是记？也许我们最大的错误就是说了忘记，但却忘了放弃。或许除了遗忘，没有什么能抹去曾经走过的痕迹。\\r\\n', '10.情之为伤，苦煞多霜；情之为悲，冷落成灰。几度萧索，素眉浅画，芳华一刹，醉翻几页？尽言飘洒，谁笺梦话？情若尘沙，浮生寒鸦。\\r\\n', '11.有一只表的人知道现在几点了，有两只表的人则无法确定时间。\\r\\n', '12.我从不担心我努力了不优秀，只担心优秀的人都比我更努力。\\r\\n', '13.生活让我们习惯了伪装、掩盖、隐藏，因为世界就是这样，谁敢摘了面具，在人群中游荡，那样连灵魂都会东躲西藏。\\r\\n', '14.最终的最终，我还是回来了，因为还有眷恋还有梦想，也因为生活在哪里都大同小异，此处有此处的艰辛，彼处有彼处的不易。所以，生活原本厚重，我们何必总想拈轻？\\r\\n', '15.我的', '人生', '是我的，你的', '人生', '是你的。只要你清楚自己在寻求什么，那就尽管按自己的意愿去生活。别人怎么说与你无关。\\r\\n', '16.我声色犬马，浪迹天涯。可我还想有一个人对我说：“别浪了，早点儿回家”\\r\\n', '17.主角配角都能演，台上台下都自在面对', '人生', '，要练就能屈能伸的个性。\\r\\n', '18.让你欢喜的地方，你婚姻不定在那，因为生活伴侣和灵魂伴侣不会是同一个人。\\r\\n', '19.小智者咄咄逼人，小善者斤斤计较，小骄傲者则露出不可一世的傲慢脸相。\\r\\n', '20.每一颗大树的成长，要接受阳光，也要包容风雨。\\r\\n', '21.一个人真正的强大，并非看他能做什么，而是看他能承担什么。\\r\\n', '22.语言很多时候都很虚假，一起经历的事情才最真实。\\r\\n', '23.人们可以为一个陌路人的点滴帮助而感激不尽，却无视朝夕相处的老板的种种恩惠，将其视之为理所当然。\\r\\n', '24.无论是否你得到定单，你都要给你潜在的顾客留下美好的印象，以便他对你有一个长久的回忆。\\r\\n', '25.谈话要切题，谈话要有逻辑性，谈话要有力，谈话要充满自信，要使你推销时的谈话直接，自然，而且尽可能的简洁。\\r\\n', '26.尘世间有两种苦，一是得不到的苦，二是钟情之苦。前者在你付诸努力之下，就把一切当成一场赌，胜之坦然，败之淡然，好在', '人生', '还有机会卷土重来。\\r\\n', '27.', '人生', '在于修行，修行则在于领悟。刻意去找的东西，往往是找不到的，天下万物的来和去都有它的时间和地点。\\r\\n', '28.', '人生', '的路上不是每个人都会支持你，在无言的时候回过头来检索下自己。\\r\\n', '29.你的爱好就是你的方向，你的兴趣就是你的资本，你的性情就是你的命运。\\r\\n', '30.简单的事情重复做，你就是专家；重复的事情用心做，你就是赢家。\\r\\n', '31.美丽是属于自信者的，从容是属于有备者的，奇迹是属于执着者的，成功是属于顽强者的。(', '格言', '网：www.geyan123.com)\\r\\n', '32.失去只是一种姿势，得到并不等同于幸福。\\r\\n', '33.生活再不如人意，都要学会自我温暖和慰藉，给自己多一点欣赏和鼓励。生活就是童话，只要心存美好，结局就会是美好。\\r\\n', '34.所有真正的问题，从来不是解决掉的，而是，遗忘。\\r\\n', '35.任何一件事情，只要心甘情愿，总是能够变得简单。\\r\\n', '36.一觉醒来，开始憧憬爱情，而爱情刚好做了场诡异的梦。\\r\\n', '37.千万别说直到永远，因为你压根不知道永远有多远。\\r\\n', '38.也许有些东西在你心里曾经很重很重，时间会让它变得很轻很轻。\\r\\n', '39.一个人如果学会始终让自己的大脑充满积极，进取，乐观，愉快和有希望的想法，那么他就己经解决了', '人生', '的一大奥秘。\\r\\n', '40.如果你认为每一位成功者都只有成功的经验，那就错了。其实，没有比成功者拥有更多的是失败经验。\\r\\n', '41.只有尝试的人才会获得成功：尝试不会失去什么，如果尝试成功，就可以获得很多东西，所以尽管去尝试。\\r\\n', '42.当对方越冷淡时，你就越以明朗，动人的笑声对待他，这样一来你在气势上会居于优势，容易击倒对方。\\r\\n', '43.集中你的精力去学习一件小事，而成功一名专家；比你分散精力去学习许多小事要更加节省时间，而且容易成功。\\r\\n', '44.加油吧，持续你的努力，每天，每月，积累一点一滴的进步，原本今天无法实现的梦想，明天，就可以得到丰硕的成果。\\r\\n', '45.人是受环境影响的，因此，要主动选择最有益于向既定目标发展的环境。\\r\\n', '46.听话是一种优雅的艺术，但很多人没有充分利用这种艺术，他们认为人有两只耳朵，所以肯定会知道如何去听。\\r\\n', '47.遵守一个诺言，可以使别人对你建立起信心，破坏你的诺言，不仅动摇了那个信心，同时可能伤了一个人的心。\\r\\n', '48.在晤谈当中，不要想面面俱到而加入太多论点，也不要使重要变得暖昧不明，模棱两可，应事先找到谈话的侧重点，紧紧把握住，并好好发展它。\\r\\n', '49.只要花一点时间：慎重的考虑和计划，然后果敢实施，定能解决一切工作的问题，难题。\\r\\n', '50.昨天，是张作费的机票；明天，是尚未兑现的期票；只有今天，才是现金，才有流通的价值。\\r\\n', '51.失去的东西，有必要去追讨吗？失去的东西，其实从未曾真正地属于你，不必惋惜，更是不必去追讨。\\r\\n', '52.如果你要做一件事，请不要炫耀，也不要宣扬，只管安安静静的去做。\\r\\n', '53.放弃并不代表失败和气馁，明智的放弃恰恰是为了得到。很多时候，选择了放弃，便是选择了成功和获得。\\r\\n', '54.放弃也是一种选择。任何收益都要付出代价，没有放弃就不可能得到。放弃，是一种量力而行的睿智，一种顾全大局的果敢。\\r\\n', '55.', '人生', '就是一场路过，不经过挫折和磨难，就不可能坚强，就不可能成熟，就不可能达到', '人生', '的高级境界。\\r\\n', '56.', '人生', '就像一口大锅，当你走到了锅底时，无论朝哪个方向走，都是向上的。\\r\\n', '57.时光匆匆流逝过，平平淡淡才是真。忍耐任由风雨过，守得云开见月明。做自己的梦，去自己想去的地方，做自己想做的人，因为生命只有一次，机会只有一回。\\r\\n', '58.看的是书，读的却是世界；沏的是茶，尝的却是生活；斟的是酒，品的却是艰辛；', '人生', '它就像一张有去无回的单车票，没有彩排。每一场都是现场直播。你把握好每次演出便是最好的珍惜。\\r\\n', '59.我爱有某种丑的美，我爱优雅曼妙的风姿，我爱胜过滔滔雄辩的沉默。我宁可一天十次看到丑。只要其中有闪光、新意和智慧，而不愿在一个月里看见一次灵魂空虚的渺小的美。\\r\\n', '60.在', '人生', '的道路上，不要以为总是往前看就是进步就是成功的方式。有的人在拼命奔跑，有的人却只是在小跑，有的人在散步，有的人却在停止，那都是一样的道理，不一定要很努力的往前奔跑才算成功，而是要讲究方法、吸取经验。\\r\\n', '61.为活着感动、为愉快地用餐感动、为能闻到花香感动、为能任意伸展四肢感动…生命中有许多看似理所当然的事，只有在失去之时，才觉得格外珍惜。\\r\\n', '62.为小事感动，获大的幸福。', '人生', '是由每一个片刻串联起来的，若不能把握刹那时光，好好享受“活着”的感动，那又怎么享受整个', '人生', '？试着开始为每件小事感动吧。\\r\\n', '63.茶说：我就是一杯水，给你的只是你的想像，你想什么，什么就是什么。对于现在我这杯茶，如蜂蜜般甜香。\\r\\n', '64.一杯茶，佛门看到的是禅，道家看到的是气，儒家看到的是礼。\\r\\n', '65.心若改变，你的态度跟着改变；态度改变，你的习惯跟着改变；习惯改变，你的性格跟着改变；性格改变，你的', '人生', '跟着改变，你不要想着去改变世界，你首先需要改变的是你自己。\\r\\n', '66.你珍惜一个人，一定是感动过；你放弃一个人，一定是失望过。看人不能看表面，日久必现原形；品情不要品随行，患难才见真情。人在落魄时才能看清，谁泼的是盆盆冷水，谁捧的是颗颗担心。\\r\\n', '67.感恩一切善意的关心和付出，拒绝一切无关的阻挠和繁杂。用清净心温柔的对待岁月，只把光阴的故事涂抹成花静叶闲的静好时光。\\r\\n', '68.', '人生', '就是道场，活着就是一种修行。内心就是信仰，灵魂就是图腾。你把内心修成什么样，你就会拥有什么样的', '人生', '。(', '格言', '网：www.geyan123.com)\\r\\n', '69.迷宫般的城市，让人习惯看相同的景物，走相同的路线，到同样的目的地；习惯让人的生活不再变。习惯让人有种莫名的安全感，却又有种莫名的寂寞。而你，永远不知道，你的习惯会让你错过什么。\\r\\n', '70.生活之路，难也好易也罢，总要体会许多，或甜或苦，留下的才能证明就是自己的。\\xa0\\r\\n', '71.拥有理想的力量，可以坚强，但并不代表你能随心所欲。可怕的还是存在的心中鬼，神，只不过是弱者的僻难所。我们并不是强者，所以没必要逞强。而且也没有人能够完美演绎到强者，因为当强者被说出一切都不神秘。\\r\\n', '72.在一步一步走向梦想的程途里，袭来的是孤独、是无助、是无奈、是伤感、是犹豫，是彷徨。于是我们开始学会忍耐坚持，开始学会坚强勇敢。开始去明白梦想是一段孤独的旅程，是独自面对的未来。\\r\\n', '73.', '人生', '不过是一张清单，你要的，你不要的，计算得太清楚的人通常聪明无比，但，换来的却是烦恼无数和辛苦一场。\\r\\n', '74.世事忙忙如水流，休将名利挂心头。粗茶淡饭随缘过，富贵荣华莫强求。\\r\\n', '75.事不三思总有败，人能百忍自无忧。\\r\\n', '76.存平等心，行方便事，则天下无事。怀慈悲心，做慈悲事，则心中太平。\\r\\n', '77.生气，就是拿别人的过错来惩罚自己。原谅别人，就是善待自己。\\r\\n', '78.人之所以有一张嘴，而有两只耳朵，原因是听的要比说的多一倍。\\r\\n', '79.自以为拥有财富的人，其实是被财富所拥有。\\r\\n', '80.无论何时，抉择一定要放在努力的前面。\\r\\n', '81.你认命比抱怨还要好，对于不可改变的事实，你除了认命以外，没有更好的办法了。\\r\\n', '82.不自重者，取辱。不自长者，取祸。不自满者，受益。不自足者，博闻。\\r\\n', '83.我们当然应该享受成功并心怀感激，但千万不要让感激变为骄傲。\\r\\n', '84.凡事不论成败，只要经历。这一生，本就是为了不输给自己而已。\\r\\n', '85.梦想是一场华美的旅途，每个人在找到它之前，都只是孤独的少年。\\r\\n', '86.你可以选择坚持，也可以选择放弃。没有对错。我是说对爱情来说，但是重要的是坚持你的选择。\\r\\n', '87.', '人生', '在世，不可能不经历失去。与其抱残守缺、执着于过去，不如轻轻放下。阴霾过后必定是晴天，噩梦醒来之后往往是黎明。\\r\\n', '88.每个人从出生开始，生命就在进行倒计时。时光飞逝，随着岁月一同走远的，还有我们所经历的那些人和事。\\r\\n', '89.', '人生', '之复杂，是泼洒在生命宣纸上的墨迹，渲染着城府与世故；天地有大美，于简单处得；', '人生', '有大疲惫，在复杂处。生活中常有大情趣，一定是日子过得很简单。\\r\\n', '90.', '人生', '之简单，是生命长卷中的几笔线条，有着疏疏朗朗的淡泊；是生命意境中的一轮薄月，有着清清凉凉的宁静。\\r\\n', '91.给时间一点时间，让过去的过去，让开始的重新开始。\\r\\n', '92.人应该支配习惯，而决不能让习惯支配人，一个人不能去掉他的坏习惯，那简直一文不值。\\r\\n', '93.习惯能够改变命运；改变自己，从点滴做起；改变一定会有痛苦，但成果是辉煌的；好的习惯会吸引成功。\\r\\n', '94.并不是因为事情难我们不敢做，而是因为我们不敢做事情才变得难。\\r\\n', '95.没有任何挽回不了的绝望境地——如果你没有得到你想要的，你将得到更好的。\\r\\n', '96.活着就是一种修行，修行就是修心。修得一颗平常心，无时不是快乐；修得一颗满足心，无处不是幸福。\\r\\n', '97.经验，是人们从过去的', '人生', '体能否中得到的，虽然曾经被验证过，但世事变化，过去的经验示必能为你当下的决定提供帮助。\\r\\n', '98.如果你不能使自己全身心都投入工作中去，无论做什么，都可能沦为平庸之辈。\\r\\n', '99.每一个成功者都是一位苦行僧，只有他们自己才知道，通往成功的道路上，到底有多少寂莫与不解。\\r\\n', '100.', '人生', '最幸福的是，累并快乐着，你现在不累，以后就会更累。(', '格言', '网：www.geyan123.com)\\r\\n', '\\r\\n\\r\\n', '\\r\\n\\r\\n', '\\r\\n请用微信扫描添加本站公众号（微信：geyanbaike）\\r\\n', '\\r\\n\\r\\n\\r\\n\\r\\n', '\\r\\n\\r\\n', '\\r\\n\\r\\n\\t\\t\\t', '\\r\\n\\r\\n\\r\\n', '\\r\\n', '\\r\\n\\t\\t\\t', '\\r\\n\\t\\t\\t\\t', '\\r\\n上一篇:', '公司员工工作格言', '\\r\\n ', '\\r\\n\\t\\t\\t\\t', '下一篇:', '100句女人相关人生格言', '\\r\\n ', '\\r\\n\\t\\t\\t', '\\r\\n\\r\\n\\r\\n\\t\\t', '\\r\\n\\r\\n\\t\\t', '相关格言', '\\r\\n            ', '\\r\\n             ', '这些年,习总书记告诉青年的10句人生格言', '100句追求卓越的名言警句', '树的哲理', '两袋咖啡豆的三个人生哲理', '张爱玲哲理名言', '100句值得学习的经典谚语', '100句催人奋进的名言警句', '100句树立信心的名言警句', '100句努力奋斗的名言警句', '100句有关励志的名言警句', '\\r\\n            ', '\\r\\n        ', '\\r\\n\\r\\n', '\\r\\n\\r\\n', '\\r\\n\\r\\n', '\\r\\n\\r\\n\\t', '\\r\\n\\r\\n\\t', '\\r\\n    \\t', '格言排行', '\\r\\n        \\t', '\\r\\n', '100句有哲理的人生格言', '100句积极向上的人生格言精选', '100句人生格言座右铭精选', '100句人生格言个性签名精选', '200句经典人生格言大全', '100句人生格言警句大全', '100句激励向上的人生格言大全', '100句充满智慧的人生格言', '100句勉励自己的人生格言', '100句催人奋进的人生格言', '\\r\\n          \\t', '\\r\\n        ', '\\r\\n\\r\\n    \\t', '最新内容', '\\r\\n        \\t', '\\r\\n', '这100句话说得太绝了，不转载对不', '经典人生哲理名言哲理名句', '唤醒自己的30句人生格言', '粗者与人斗力，愚者与人斗气，慧', '佛说：做人，要大度', '很多人之所以穷，是因为他们不愿', '50句十分精辟的人生格言', '生活的感悟，精辟的人生格言', '人生格言：总有一次哭泣，让人瞬', '国学经典60句，受用一生', '每天看一看，人生更精彩', '关于男人女人的爱情名言经典语录', '人生格言经典感悟，很美很痛很精', '适合发朋友圈的精辟人生格言经典', '关于励志的名人名言经典语录', '适合发朋友圈，受用一生的励志名', '10句积极向上的人生格言，你最喜', '15句人生格言，句句经典，你的人', '记住这26条锦囊格言，让你的人生', '影响一生的13句人生格言，句句醍', '\\r\\n          ', '\\r\\n        ', '\\r\\n\\r\\n        ', '\\r\\n\\r\\n\\r\\n', '\\r\\n        ', '\\r\\n\\r\\n', '\\r\\n\\t', '\\r\\n    ', '\\r\\n', '\\r\\n\\r\\n', '\\r\\n', '\\r\\n\\r\\n', '\\r\\n\\t', '    \\r\\n', '名人名言', ' |\\t \\r\\n', '励志名言', ' | \\r\\n', '句子大全', ' | \\r\\n', '经典语录', ' |\\r\\n', '诗句大全', ' | \\r\\n', '名言名句', ' |\\r\\n', '名言警句', '|\\r\\n', '总结', '|\\r\\n', '十九大', ' |\\t \\r\\n', '工作总结', ' | \\r\\n', '个人总结', ' | \\r\\n', '年终总结', ' |\\r\\n', '年度总结', ' | \\r\\n', '月度总结', ' |\\r\\n', '季度总结', '|\\r\\n', '半年总结', ' |\\r\\n', '学习总结', ' | \\r\\n', '培训总结', ' |\\r\\n', '成语大全', '|\\r\\n', '造句大全', '|\\r\\n', '祝福语', ' |\\r\\n', '节日祝福语', '|\\r\\n', '生日祝福语', ' |\\r\\n', '日常祝福语', ' | \\r\\n', '节日常识', ' |\\r\\n', '高考', ' |\\r\\n', '报考技巧', '|\\r\\n', '填报指导', '|\\r\\n', '志愿案例分析', ' |\\r\\n', '校友会大学排名', '|\\r\\n', '武书连大学排名', ' |\\r\\n', '中国大学排名', ' | \\r\\n', '全球大学排名', ' |\\r\\n\\r\\n    ', '\\r\\n\\r\\n    ', '\\r\\n\\r\\n    格言网©2017-2025 版权所有 友情链接请添加qq:653600839\\r\\n版权声明：本站文章中所选用的图片及文字来源于网络以及用户投稿，由于未联系到知识产权人', '或未发现有关知识产权的登记，如有知识产权人并不愿意我们使用，如果有侵权请立即联系：653600839@qq.com，我们立即下架或删除。 \\r\\n\\r\\n  ', '豫ICP备13001322号-1', ' \\r\\n    \\r\\n', '\\r\\nvar _hmt = _hmt || [];\\r\\n(function() {\\r\\n  var hm = document.createElement(\"script\");\\r\\n  hm.src = \"https://hm.baidu.com/hm.js?59ce292ee20891c7ddb9ed8766f92153\";\\r\\n  var s = document.getElementsByTagName(\"script\")[0]; \\r\\n  s.parentNode.insertBefore(hm, s);\\r\\n})();\\r\\n', '  \\r\\n\\r\\n', '\\r\\n\\r\\n\\r\\n\\r\\n', '\\r\\n']\n",
      "['  \\r\\n', '\\r\\n', '手机访问本页：请用手机扫描下方二维码（微信、QQ等都可以扫描）\\r\\n', '\\r\\n']\n"
     ]
    },
    {
     "name": "stdout",
     "output_type": "stream",
     "text": [
      "['  \\r\\n', '\\r\\n', '手机访问本页：请用手机扫描下方二维码（微信、QQ等都可以扫描）\\r\\n', '\\r\\n']\n",
      "['  \\r\\n', '\\r\\n', '手机访问本页：请用手机扫描下方二维码（微信、QQ等都可以扫描）\\r\\n', '\\r\\n']\n",
      "['  \\r\\n', '\\r\\n', '手机访问本页：请用手机扫描下方二维码（微信、QQ等都可以扫描）\\r\\n', '\\r\\n']\n",
      "['  \\r\\n', '\\r\\n', '手机访问本页：请用手机扫描下方二维码（微信、QQ等都可以扫描）\\r\\n', '\\r\\n']\n",
      "['  \\r\\n', '\\r\\n', '手机访问本页：请用手机扫描下方二维码（微信、QQ等都可以扫描）\\r\\n', '\\r\\n']\n",
      "['  \\r\\n', '\\r\\n', '手机访问本页：请用手机扫描下方二维码（微信、QQ等都可以扫描）\\r\\n', '\\r\\n']\n",
      "['  \\r\\n', '\\r\\n', '手机访问本页：请用手机扫描下方二维码（微信、QQ等都可以扫描）\\r\\n', '\\r\\n']\n",
      "['  \\r\\n', '\\r\\n', '手机访问本页：请用手机扫描下方二维码（微信、QQ等都可以扫描）\\r\\n', '\\r\\n']\n"
     ]
    }
   ],
   "source": [
    "# //div[@id='p_left']/div/dl[1]/dd/ul/li/a/@href\n",
    "# //div[@class='content']/div//text()\n",
    "\n",
    "# http://www.geyan123.com/\n",
    "import requests\n",
    "from lxml.etree import HTML\n",
    "\n",
    "base_url = \"http://www.geyan123.com/\"\n",
    "resp = requests.get(base_url, headers=headers)\n",
    "html_tree = HTML(resp.content)\n",
    "link_list = html_tree.xpath(\"//div[@id='p_left']/div/dl[1]/dd/ul/li/a/@href\")\n",
    "\n",
    "print(link_list)\n",
    "\n",
    "with open(\"mingrenmingyan.txt\", \"a+\", encoding='utf-8') as f:\n",
    "\n",
    "    for link in link_list:\n",
    "        url = base_url + link\n",
    "        resp = requests.get(url, headers=headers)\n",
    "        html_tree = HTML(resp.content)\n",
    "        sentence_list = html_tree.xpath(\"//div[@class='content']/div//text()\")\n",
    "        print(sentence_list)\n",
    "        f.writelines(sentence_list)\n",
    "        f.write(\"\\n\")\n",
    "    \n"
   ]
  },
  {
   "cell_type": "code",
   "execution_count": 207,
   "metadata": {
    "ExecuteTime": {
     "end_time": "2020-08-25T08:00:16.023851Z",
     "start_time": "2020-08-25T08:00:16.019745Z"
    },
    "scrolled": true
   },
   "outputs": [
    {
     "data": {
      "text/plain": [
       "{'user-agent': 'Mozilla/5.0 (Macintosh; Intel Mac OS X 10_15_4) AppleWebKit/537.36 (KHTML, like Gecko) Chrome/84.0.4147.135 Safari/537.36'}"
      ]
     },
     "execution_count": 207,
     "metadata": {},
     "output_type": "execute_result"
    }
   ],
   "source": [
    "headers"
   ]
  },
  {
   "cell_type": "markdown",
   "metadata": {},
   "source": [
    "### 将常见的爬虫逻辑进行封装"
   ]
  },
  {
   "cell_type": "code",
   "execution_count": 210,
   "metadata": {
    "ExecuteTime": {
     "end_time": "2020-08-25T08:21:40.049101Z",
     "start_time": "2020-08-25T08:21:40.044955Z"
    },
    "code_folding": []
   },
   "outputs": [],
   "source": [
    "import requests\n",
    "from lxml.etree import HTML\n",
    "\n",
    "def get_content_by_xpath(url, xpath):\n",
    "    headers = {'user-agent': 'Mozilla/5.0 (Macintosh; Intel Mac OS X 10_15_4) AppleWebKit/537.36 (KHTML, like Gecko) Chrome/84.0.4147.135 Safari/537.36'}\n",
    "    resp = requests.get(url, headers=headers)\n",
    "    html = HTML(resp.content)\n",
    "    content = html.xpath(xpath)\n",
    "    return content\n",
    "\n"
   ]
  },
  {
   "cell_type": "code",
   "execution_count": 212,
   "metadata": {
    "ExecuteTime": {
     "end_time": "2020-08-25T08:22:39.580206Z",
     "start_time": "2020-08-25T08:22:39.489600Z"
    },
    "collapsed": true
   },
   "outputs": [
    {
     "data": {
      "text/plain": [
       "['/renshenggeyan/31110.html',\n",
       " '/renshenggeyan/30077.html',\n",
       " '/renshenggeyan/30073.html',\n",
       " '/renshenggeyan/30071.html',\n",
       " '/renshenggeyan/30068.html',\n",
       " '/renshenggeyan/30067.html',\n",
       " '/renshenggeyan/208861.html',\n",
       " '/renshenggeyan/208827.html',\n",
       " '/renshenggeyan/208835.html',\n",
       " '/renshenggeyan/208548.html']"
      ]
     },
     "execution_count": 212,
     "metadata": {},
     "output_type": "execute_result"
    }
   ],
   "source": [
    "url = \"http://www.geyan123.com/\"\n",
    "xpath = \"//div[@id='p_left']/div/dl[1]/dd/ul/li/a/@href\"\n",
    "\n",
    "get_content_by_xpath(url, xpath)"
   ]
  },
  {
   "cell_type": "markdown",
   "metadata": {
    "ExecuteTime": {
     "end_time": "2019-12-20T00:23:56.330936Z",
     "start_time": "2019-12-20T00:23:56.320892Z"
    }
   },
   "source": [
    "### 家庭作业：\n",
    "- 抓取新浪股票主页：`https://finance.sina.com.cn/stock/`的所有要闻\n",
    "- `//div[@class='hdline']/h2/a/@href`\n",
    "- `//h1/text()`\n",
    "- `//div[@class='article']/p/text()`或`//div[@class='articalContent']/span/text()`"
   ]
  },
  {
   "cell_type": "markdown",
   "metadata": {},
   "source": [
    "### 案例1\n",
    "- 爬去天天基金网的基金当日涨幅数据和基金名称\n",
    "- 将采集到的数据存储到csv文件中\n",
    "- 案例URL：http://fund.eastmoney.com/004846.html"
   ]
  },
  {
   "cell_type": "code",
   "execution_count": 214,
   "metadata": {
    "ExecuteTime": {
     "end_time": "2020-08-25T08:30:09.332038Z",
     "start_time": "2020-08-25T08:30:09.182890Z"
    },
    "code_folding": [
     0
    ],
    "scrolled": true
   },
   "outputs": [
    {
     "name": "stdout",
     "output_type": "stream",
     "text": [
      "['1.25%']\n",
      "['南华瑞盈混合发起C']\n"
     ]
    }
   ],
   "source": [
    "# 基金名称：//div[@class='fundDetail-tit']/div/text()\n",
    "# 当日涨幅：//dl[@class='dataItem02']/dd[1]/span[2]/text()\n",
    "\n",
    "fund_incr = get_content_by_xpath(\"http://fund.eastmoney.com/004846.html\", \"//dl[@class='dataItem02']/dd[1]/span[2]/text()\")\n",
    "fund_name = get_content_by_xpath(\"http://fund.eastmoney.com/004846.html\", \"//div[@class='fundDetail-tit']/div/text()\")\n",
    "\n",
    "print(fund_incr)\n",
    "print(fund_name)\n"
   ]
  },
  {
   "cell_type": "markdown",
   "metadata": {},
   "source": [
    "## Ajax数据爬取"
   ]
  },
  {
   "cell_type": "markdown",
   "metadata": {},
   "source": [
    "### 什么是Ajax"
   ]
  },
  {
   "cell_type": "markdown",
   "metadata": {},
   "source": [
    "### 接口数据采集\n",
    "http://fund.eastmoney.com/js/fundcode_search.js\n",
    "所有基金名称列表代码\n",
    "\n",
    "http://fund.eastmoney.com/js/jjjz_gs.js?dt=1463791574015\n",
    "所有基金公司名称列表代码\n",
    "\n"
   ]
  },
  {
   "cell_type": "markdown",
   "metadata": {
    "heading_collapsed": true
   },
   "source": [
    "### 案例分析：微博接口数据分析实战\n",
    "- https://passport.weibo.cn/signin/login\n",
    "- 获取热门微博的接口数据"
   ]
  },
  {
   "cell_type": "code",
   "execution_count": 225,
   "metadata": {
    "ExecuteTime": {
     "end_time": "2020-08-25T08:47:23.593600Z",
     "start_time": "2020-08-25T08:47:22.262480Z"
    },
    "hidden": true
   },
   "outputs": [
    {
     "data": {
      "text/plain": [
       "'#上海旅行# 【上海#气象局回应上海上空现海市蜃楼#】   称上海今晨上空出现的海市蜃楼奇观比较少见，但并不是海市蜃楼，系“物影上投”现象。我是不懂，只觉得漂亮就好，哈哈，你觉得呢？欣赏一下各地的→_→ \\u200b\\u200b\\u200b'"
      ]
     },
     "execution_count": 225,
     "metadata": {},
     "output_type": "execute_result"
    }
   ],
   "source": [
    "import requests\n",
    "\n",
    "resp = requests.get(\"https://m.weibo.cn/api/container/getIndex?containerid=102803&openApp=0\")\n",
    "# print(resp.json())\n",
    "json_dict = resp.json()\n",
    "json_dict[\"data\"]['cards'][5]['mblog']['raw_text']\n"
   ]
  },
  {
   "cell_type": "markdown",
   "metadata": {},
   "source": [
    "### 练习：分析百度翻译的接口\n",
    "- 分析百度翻译的接口\n",
    "- 利用百度翻译的接口制作一个自己的翻译机"
   ]
  },
  {
   "cell_type": "code",
   "execution_count": 229,
   "metadata": {
    "ExecuteTime": {
     "end_time": "2020-08-25T08:54:51.576202Z",
     "start_time": "2020-08-25T08:54:48.417544Z"
    },
    "collapsed": true
   },
   "outputs": [
    {
     "name": "stdout",
     "output_type": "stream",
     "text": [
      "请输入你要翻译的词语：child\n",
      "{'errno': 0, 'data': [{'k': 'child', 'v': 'n. 儿童; 小孩; 子女; 儿子; 女儿; 深受…影响的人;'}, {'k': 'children', 'v': ' child 的复数;'}, {'k': 'childhood', 'v': 'n. 童年; 幼年; 孩童时期;'}, {'k': 'childish', 'v': 'adj. 孩子的; 孩子气的; 稚嫩的; 幼稚的; 天真的;'}, {'k': \"children's\", 'v': ' 儿童; 儿童音乐; 儿童健康;'}]}\n"
     ]
    }
   ],
   "source": [
    "import requests\n",
    "\n",
    "kw = input(\"请输入你要翻译的词语：\")\n",
    "\n",
    "data = {\"kw\": kw}\n",
    "\n",
    "resp = requests.post(\"https://fanyi.baidu.com/sug\", headers=headers, data=data)\n",
    "\n",
    "print(resp.json())\n",
    "\n"
   ]
  },
  {
   "cell_type": "markdown",
   "metadata": {},
   "source": [
    "## 利用Selenium爬取动态网页的数据"
   ]
  },
  {
   "cell_type": "code",
   "execution_count": 53,
   "metadata": {
    "ExecuteTime": {
     "end_time": "2020-06-13T07:02:11.058291Z",
     "start_time": "2020-06-13T07:02:10.886884Z"
    }
   },
   "outputs": [
    {
     "name": "stdout",
     "output_type": "stream",
     "text": [
      "/bin/sh: pip: command not found\r\n"
     ]
    }
   ],
   "source": [
    "!pip install selenium"
   ]
  },
  {
   "cell_type": "markdown",
   "metadata": {
    "ExecuteTime": {
     "end_time": "2020-05-29T09:56:16.917852Z",
     "start_time": "2020-05-29T09:56:16.913138Z"
    }
   },
   "source": [
    "**chromedriver的安装和配置**"
   ]
  },
  {
   "cell_type": "markdown",
   "metadata": {},
   "source": [
    "> chromedriver国内镜像`http://npm.taobao.org/mirrors/chromedriver/83.0.4103.39/`\n",
    "\n",
    "> chrome-V83国内下载地址：\n",
    "- Windows:`https://www.iplaysoft.com/tools/chrome/`\n",
    "- macOS:`http://www.pc6.com/mac/110545.html`"
   ]
  },
  {
   "cell_type": "markdown",
   "metadata": {},
   "source": [
    "```python\n",
    "from selenium import webdriver\n",
    "\n",
    "option = webdriver.ChromeOptions()\n",
    "# option.add_argument('headless')\n",
    "\n",
    "# chrome浏览器配置\n",
    "# Linux和macOS平台\n",
    "driver = webdriver.Chrome('./chromedriver', options=option)\n",
    "\n",
    "```"
   ]
  },
  {
   "cell_type": "markdown",
   "metadata": {},
   "source": [
    "- 访问指定网页：`driver.get(target_url)`\n",
    "- 通过xpath获取页面的单个元素：`driver.find_element_by_xpath(xpath_expression)`\n",
    "- 通过xpath获取页面的多个元素：`driver.find_elements_by_xpath(xpath_expression)`\n",
    "- 获取元素的文本内容：`driver.find_element_by_xpath(xpath_expression).text`\n",
    "- 点击页面元素：`driver.find_element_by_xpath(xpath_expression).click()`\n",
    "- 往输入框输入内容：`driver.find_element_by_xpath(xpath_expression).send_keys(input_text)`\n",
    "- 获取元素中的属性：`driver.find_element_by_xpath(xpath_expression).get_attribute('href')`\n",
    "- 获取当前页面的URL：`driver.current_url`\n",
    "- 关闭网页：`driver.quit()`\n",
    "- 滚动鼠标到网页底部：`driver.execute_script(\"window.scrollTo(0, document.body.scrollHeight);\")`"
   ]
  },
  {
   "cell_type": "code",
   "execution_count": 230,
   "metadata": {
    "ExecuteTime": {
     "end_time": "2020-08-25T09:07:53.642920Z",
     "start_time": "2020-08-25T09:07:51.060659Z"
    }
   },
   "outputs": [],
   "source": [
    "# https://passport.weibo.cn/signin/login\n",
    "from selenium import webdriver\n",
    "\n",
    "option = webdriver.ChromeOptions()\n",
    "# option.add_argument('headless')\n",
    "\n",
    "# chrome浏览器配置\n",
    "# Linux和macOS平台\n",
    "driver = webdriver.Chrome('./chromedriver', options=option)\n",
    "\n",
    "driver.get(\"https://passport.weibo.cn/signin/login\")\n",
    "\n",
    "driver.find_element_by_xpath(\"//input[@id='loginName']\").click().send_keys(\"\")\n",
    "driver.find_element_by_xpath(\"//input[@id='loginPassword']\").click().send_keys(\"\")\n",
    "driver.find_element_by_xpath(\"//a[@id='loginAction']\").click()\n"
   ]
  },
  {
   "cell_type": "markdown",
   "metadata": {
    "heading_collapsed": true
   },
   "source": [
    "### 案例：东方财富网数据采集\n",
    "**背景介绍**\n",
    "> 东方财富网（`https://www.eastmoney.com/`）是一家专业的互联网财经媒体，提供7*24小时的财经咨询及全球金融市场报价，汇聚全方位的综合财经新闻和进攻让那个市场资讯。\n",
    "\n",
    "**目标**\n",
    "- 1. http://quote.eastmoney.com/center/gridlist.html#hs_a_board\n",
    "- 2. 抓取目标网页的股票涨跌信息\n",
    "    - 例如：http://quote.eastmoney.com/sz000001.html"
   ]
  },
  {
   "cell_type": "markdown",
   "metadata": {
    "ExecuteTime": {
     "end_time": "2020-08-25T06:13:19.249212Z",
     "start_time": "2020-08-25T06:13:19.242757Z"
    },
    "heading_collapsed": true
   },
   "source": [
    "### 家庭作业：采集京东欧莱雅产品的评论\n",
    "- 开发爬虫程序，在京东首页中搜索欧莱雅产品\n",
    "- 采集搜索结果中产品的用户评论信息\n",
    "- 每件商品至少采集10条评论（会员名， 初次评价内容）\n",
    "- 将采集的评论保存到`jd_comment.csv`文件中"
   ]
  },
  {
   "cell_type": "code",
   "execution_count": 232,
   "metadata": {
    "ExecuteTime": {
     "end_time": "2020-08-25T09:38:25.201935Z",
     "start_time": "2020-08-25T09:38:25.197107Z"
    },
    "hidden": true
   },
   "outputs": [
    {
     "name": "stdout",
     "output_type": "stream",
     "text": [
      "{'db': 'demo', 'table': 'table1'}\n",
      "(1, 4, 5, 6)\n"
     ]
    }
   ],
   "source": [
    "def conn_db(host, port, **kwagrs):\n",
    "    print(kwagrs)\n",
    "    print(args)\n",
    "\n",
    "\n",
    "\n",
    "conn_db(\"127.0.0.1\", \"3306\", 1, 4, 5, 6, db=\"demo\", table=\"table1\")"
   ]
  },
  {
   "cell_type": "markdown",
   "metadata": {},
   "source": [
    "### 验证码破解\n",
    "- 知乎倒立汉字识别"
   ]
  },
  {
   "cell_type": "code",
   "execution_count": null,
   "metadata": {},
   "outputs": [],
   "source": [
    "import csv\n",
    "\n",
    "csv_obj = csv.reader(f)"
   ]
  },
  {
   "cell_type": "code",
   "execution_count": null,
   "metadata": {},
   "outputs": [],
   "source": [
    "import tkinter\n",
    "\n",
    "\n",
    "import wxpython\n",
    "\n",
    "import pyqt"
   ]
  }
 ],
 "metadata": {
  "kernelspec": {
   "display_name": "Python 3",
   "language": "python",
   "name": "python3"
  },
  "language_info": {
   "codemirror_mode": {
    "name": "ipython",
    "version": 3
   },
   "file_extension": ".py",
   "mimetype": "text/x-python",
   "name": "python",
   "nbconvert_exporter": "python",
   "pygments_lexer": "ipython3",
   "version": "3.7.7"
  },
  "toc": {
   "base_numbering": 1,
   "nav_menu": {},
   "number_sections": false,
   "sideBar": false,
   "skip_h1_title": false,
   "title_cell": "Table of Contents",
   "title_sidebar": "Contents",
   "toc_cell": false,
   "toc_position": {
    "height": "653px",
    "left": "1627px",
    "top": "110px",
    "width": "165px"
   },
   "toc_section_display": true,
   "toc_window_display": true
  }
 },
 "nbformat": 4,
 "nbformat_minor": 2
}
